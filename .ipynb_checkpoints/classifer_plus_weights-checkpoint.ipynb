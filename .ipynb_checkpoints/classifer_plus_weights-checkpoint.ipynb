{
 "cells": [
  {
   "cell_type": "markdown",
   "metadata": {},
   "source": [
    "## This notebook is an extension of the simple_classifier.ipynb. The only thing which is added is the inclusion of class_weights parameter to model.fit() . A nice trick was found and the parameter increased the performance significantly."
   ]
  },
  {
   "cell_type": "code",
   "execution_count": null,
   "metadata": {},
   "outputs": [],
   "source": [
    "#https://keras.io/examples/vision/image_classification_from_scratch/\n",
    "#accessed May 2020"
   ]
  },
  {
   "cell_type": "code",
   "execution_count": 2,
   "metadata": {},
   "outputs": [],
   "source": [
    "import tensorflow as tf\n",
    "from tensorflow import keras\n",
    "from tensorflow.keras import layers\n",
    "import pathlib\n",
    "import pandas as pd\n",
    "import numpy as np\n",
    "from keras_preprocessing.image import ImageDataGenerator\n"
   ]
  },
  {
   "cell_type": "code",
   "execution_count": 3,
   "metadata": {},
   "outputs": [],
   "source": [
    "#NOTE - I am working in an nvidia-docker image with official tensorflow docker.\n",
    "# I had to add this line AND 'trust' the notebook on top-right. Otherwise an ugly\n",
    "# cudNN error is present.\n",
    "\n",
    "gpus = tf.config.experimental.list_physical_devices('GPU')\n",
    "if gpus:\n",
    "    for gpu in gpus:\n",
    "        tf.config.experimental.set_memory_growth(gpu, True)"
   ]
  },
  {
   "cell_type": "code",
   "execution_count": 4,
   "metadata": {},
   "outputs": [],
   "source": [
    "def csvSplitter(dataframe, split_ratio):\n",
    "    \"\"\"\n",
    "    To use the data generator in keras with flow_from_dataset, you need a helper function to perform the train/test\n",
    "    split.\n",
    "    \n",
    "    Input: a pandas CSV/Table of all your data.\n",
    "    Output : the same dataframe, split into seperate training/validation dataframes, to be used in rest of pipeline\n",
    "    \"\"\"\n",
    "    dataframe = dataframe.sample(frac=1).reset_index(drop=True) #Shuffles DataFrame\n",
    "    validation_index = round(dataframe.shape[0] * split_ratio) # Gets # of rows/points in validation set \n",
    "    training_index = dataframe.shape[0] - validation_index # Gets # of rows/points in training set\n",
    "    train_valid_split = np.concatenate((np.ones(validation_index),np.zeros(training_index))) # creates train-valid column\n",
    "    dataframe['trainValid'] = train_valid_split # adds the splitting ID to the dataframe\n",
    "    train_df = dataframe[dataframe['trainValid'] == 0.0]\n",
    "    valid_df = dataframe[dataframe['trainValid'] == 1.0]\n",
    "    return train_df, valid_df\n",
    "\n",
    "def make_model(input_shape, num_classes):\n",
    "    inputs = keras.Input(shape=input_shape)\n",
    "    # Image augmentation block\n",
    "    #x = data_augmentation(inputs)\n",
    "\n",
    "    # Entry block\n",
    "    #x = layers.experimental.preprocessing.Rescaling(1.0 / 255)(inpu)\n",
    "        # This is done already because we used an ImageDataGenerator\n",
    "    x = layers.Conv2D(32, 3, strides=2, padding=\"same\")(inputs)\n",
    "    x = layers.BatchNormalization()(x)\n",
    "    x = layers.Activation(\"relu\")(x)\n",
    "\n",
    "    x = layers.Conv2D(64, 3, padding=\"same\")(x)\n",
    "    x = layers.BatchNormalization()(x)\n",
    "    x = layers.Activation(\"relu\")(x)\n",
    "\n",
    "    previous_block_activation = x  # Set aside residual\n",
    "\n",
    "    for size in [128, 256, 512, 728]:\n",
    "        x = layers.Activation(\"relu\")(x)\n",
    "        x = layers.SeparableConv2D(size, 3, padding=\"same\")(x)\n",
    "        x = layers.BatchNormalization()(x)\n",
    "\n",
    "        x = layers.Activation(\"relu\")(x)\n",
    "        x = layers.SeparableConv2D(size, 3, padding=\"same\")(x)\n",
    "        x = layers.BatchNormalization()(x)\n",
    "\n",
    "        x = layers.MaxPooling2D(3, strides=2, padding=\"same\")(x)\n",
    "\n",
    "        # Project residual\n",
    "        residual = layers.Conv2D(size, 1, strides=2, padding=\"same\")(\n",
    "            previous_block_activation\n",
    "        )\n",
    "        x = layers.add([x, residual])  # Add back residual\n",
    "        previous_block_activation = x  # Set aside next residual\n",
    "\n",
    "    x = layers.SeparableConv2D(1024, 3, padding=\"same\")(x)\n",
    "    x = layers.BatchNormalization()(x)\n",
    "    x = layers.Activation(\"relu\")(x)\n",
    "\n",
    "    x = layers.GlobalAveragePooling2D()(x)\n",
    "    if num_classes == 2:\n",
    "        activation = \"sigmoid\"\n",
    "        units = 1\n",
    "    else:\n",
    "        activation = \"softmax\"\n",
    "        units = num_classes\n",
    "\n",
    "    x = layers.Dropout(0.5)(x)\n",
    "    outputs = layers.Dense(units, activation=activation)(x)\n",
    "    return keras.Model(inputs, outputs)"
   ]
  },
  {
   "cell_type": "code",
   "execution_count": 10,
   "metadata": {},
   "outputs": [
    {
     "data": {
      "text/plain": [
       "Index(['Family:', 'Subfamily:', 'Country:', 'Province:', 'Genus:', 'Species:',\n",
       "       'View:', 'Filename:'],\n",
       "      dtype='object')"
      ]
     },
     "execution_count": 10,
     "metadata": {},
     "output_type": "execute_result"
    }
   ],
   "source": [
    "data_dir = pathlib.Path('/tf/beetleData/images/')\n",
    "labels = pd.read_csv('/tf/beetleData/labels/master_rbi.csv')\n",
    "labels.columns"
   ]
  },
  {
   "cell_type": "code",
   "execution_count": 16,
   "metadata": {},
   "outputs": [],
   "source": [
    "def get_beetle_labels(y_target = 'Family:',\n",
    "                      data_dir = '/tf/beetleData/images/',\n",
    "                      label_file = '/tf/beetleData/labels/master_rbi.csv',\n",
    "                      top_classes = 6):\n",
    "    \"\"\"\n",
    "    Read label file\n",
    "    Get images from Dorsal View\n",
    "    Take those images and use csvsplitter to return train and test dataframes\n",
    "    \"\"\"\n",
    "    labels = pd.read_csv(label_file)\n",
    "    assert y_target in labels.columns, \"y_target should be a column in the label_file!\"\n",
    "    \n",
    "    data_dir = pathlib.Path('/tf/beetleData/images/')\n",
    "    dorsal_data = labels[labels[\"View:\"] == \"Dorsal\"] #filter images that are from dorsal view\n",
    "    dorsal_data[y_target].value_counts().sort_values().plot(kind = 'barh') # preview the distribution\n",
    "    top6 = dorsal_data[y_target].value_counts(normalize=True)[:top_classes]\n",
    "    top6 = top6.index.values # get top 6 most common classes.\n",
    "    top6_df = dorsal_data[dorsal_data[y_target].isin(top6)] #filter images from only top 6 classes\n",
    "    top6_train, top6_valid = csvSplitter(top6_df, .2)\n",
    "    \n",
    "    return top6_train, top6_valid\n"
   ]
  },
  {
   "cell_type": "code",
   "execution_count": null,
   "metadata": {},
   "outputs": [],
   "source": []
  },
  {
   "cell_type": "code",
   "execution_count": 13,
   "metadata": {},
   "outputs": [
    {
     "name": "stdout",
     "output_type": "stream",
     "text": [
      "Found 2343 validated image filenames belonging to 6 classes.\n",
      "Found 586 validated image filenames belonging to 6 classes.\n",
      "2343/2343 [==============================] - 19s 8ms/step - loss: 1.2367 - accuracy: 0.6073 - val_loss: 0.8418 - val_accuracy: 0.7491\n"
     ]
    }
   ],
   "source": [
    "image_size = (75,54) # PARAMETER\n",
    "\n",
    "datagen=ImageDataGenerator(rescale=1./255)\n",
    "train_generator=datagen.flow_from_dataframe(dataframe=top6_train,\n",
    "                                            directory=\"/tf/beetlevision/images\",\n",
    "                                            x_col=\"Filename:\", y_col=\"Family:\",\n",
    "                                            class_mode=\"categorical\",\n",
    "                                            target_size=image_size,\n",
    "                                            batch_size=1)\n",
    "validation_generator=datagen.flow_from_dataframe(dataframe=top6_valid,\n",
    "                                            directory=\"/tf/beetlevision/images\",\n",
    "                                            x_col=\"Filename:\", y_col=\"Family:\",\n",
    "                                            class_mode=\"categorical\",\n",
    "                                            target_size=image_size,\n",
    "                                            batch_size=12)\n",
    "\n",
    "model = make_model(input_shape=image_size + (3,), num_classes=6)\n",
    "epochs = 1\n",
    "\n",
    "callbacks = [\n",
    "    keras.callbacks.ModelCheckpoint(\"save_at_{epoch}.h5\"),\n",
    "]\n",
    "model.compile(\n",
    "    optimizer=keras.optimizers.Adam(1e-3),\n",
    "    loss=\"categorical_crossentropy\",\n",
    "    metrics=[\"accuracy\"],\n",
    ")\n",
    "history58x58 = model.fit(\n",
    "    train_generator,validation_data=validation_generator,epochs=epochs\n",
    "    #    train_generator,validation_data=validation_generator,epochs=epochs, callbacks=callbacks\n",
    ")"
   ]
  },
  {
   "cell_type": "code",
   "execution_count": null,
   "metadata": {},
   "outputs": [],
   "source": [
    "model = make_model(input_shape=image_size + (3,), num_classes=6)\n",
    "epochs = 1\n",
    "\n",
    "callbacks = [\n",
    "    keras.callbacks.ModelCheckpoint(\"save_at_{epoch}.h5\"),\n",
    "]\n",
    "model.compile(\n",
    "    optimizer=keras.optimizers.Adam(1e-3),\n",
    "    loss=\"categorical_crossentropy\",\n",
    "    metrics=[\"accuracy\"],\n",
    ")\n",
    "history58x58 = model.fit(\n",
    "    train_generator,validation_data=validation_generator,epochs=epochs\n",
    "    #    train_generator,validation_data=validation_generator,epochs=epochs, callbacks=callbacks\n",
    ")"
   ]
  },
  {
   "cell_type": "markdown",
   "metadata": {},
   "source": [
    "ImageDataGenerator.flow_from_dataframe(\n",
    "    dataframe,\n",
    "    directory=None,\n",
    "    x_col=\"filename\",\n",
    "    y_col=\"class\",\n",
    "    weight_col=None,\n",
    "    target_size=(256, 256),\n",
    "    color_mode=\"rgb\",\n",
    "    classes=None,\n",
    "    class_mode=\"categorical\",\n",
    "    batch_size=32,\n",
    "    shuffle=True,\n",
    "    seed=None,\n",
    "    save_to_dir=None,\n",
    "    save_prefix=\"\",\n",
    "    save_format=\"png\",\n",
    "    subset=None,\n",
    "    interpolation=\"nearest\",\n",
    "    validate_filenames=True,\n",
    "    **kwargs\n",
    ")\n"
   ]
  },
  {
   "cell_type": "code",
   "execution_count": null,
   "metadata": {},
   "outputs": [],
   "source": [
    "train_generator.class_indices"
   ]
  },
  {
   "cell_type": "code",
   "execution_count": 15,
   "metadata": {},
   "outputs": [],
   "source": [
    "y_train = train_generator.classes"
   ]
  },
  {
   "cell_type": "code",
   "execution_count": null,
   "metadata": {},
   "outputs": [],
   "source": [
    "!pip install sklearn\n",
    "from sklearn.utils import class_weight"
   ]
  },
  {
   "cell_type": "code",
   "execution_count": null,
   "metadata": {},
   "outputs": [],
   "source": [
    "np.unique(y_train)"
   ]
  },
  {
   "cell_type": "code",
   "execution_count": 17,
   "metadata": {},
   "outputs": [
    {
     "ename": "NameError",
     "evalue": "name 'train_generator' is not defined",
     "output_type": "error",
     "traceback": [
      "\u001b[0;31m---------------------------------------------------------------------------\u001b[0m",
      "\u001b[0;31mNameError\u001b[0m                                 Traceback (most recent call last)",
      "\u001b[0;32m<ipython-input-17-fa451828dee3>\u001b[0m in \u001b[0;36m<module>\u001b[0;34m\u001b[0m\n\u001b[1;32m      2\u001b[0m     \u001b[0;31m#https://datascience.stackexchange.com/questions/13490/how-to-set-class-weights-for-imbalanced-classes-in-keras\u001b[0m\u001b[0;34m\u001b[0m\u001b[0;34m\u001b[0m\u001b[0;34m\u001b[0m\u001b[0m\n\u001b[1;32m      3\u001b[0m \u001b[0;32mfrom\u001b[0m \u001b[0msklearn\u001b[0m\u001b[0;34m.\u001b[0m\u001b[0mutils\u001b[0m \u001b[0;32mimport\u001b[0m \u001b[0mclass_weight\u001b[0m\u001b[0;34m\u001b[0m\u001b[0;34m\u001b[0m\u001b[0m\n\u001b[0;32m----> 4\u001b[0;31m \u001b[0my_train\u001b[0m \u001b[0;34m=\u001b[0m \u001b[0mtrain_generator\u001b[0m\u001b[0;34m.\u001b[0m\u001b[0mclasses\u001b[0m\u001b[0;34m\u001b[0m\u001b[0;34m\u001b[0m\u001b[0m\n\u001b[0m\u001b[1;32m      5\u001b[0m c_weights = class_weight.compute_class_weight('balanced',\n\u001b[1;32m      6\u001b[0m                                              \u001b[0mnp\u001b[0m\u001b[0;34m.\u001b[0m\u001b[0munique\u001b[0m\u001b[0;34m(\u001b[0m\u001b[0my_train\u001b[0m\u001b[0;34m)\u001b[0m\u001b[0;34m,\u001b[0m\u001b[0;34m\u001b[0m\u001b[0;34m\u001b[0m\u001b[0m\n",
      "\u001b[0;31mNameError\u001b[0m: name 'train_generator' is not defined"
     ]
    }
   ],
   "source": [
    "#cool trick to automatically generate the relative weights to make the classes appear balanced.\n",
    "    #https://datascience.stackexchange.com/questions/13490/how-to-set-class-weights-for-imbalanced-classes-in-keras\n",
    "from sklearn.utils import class_weight\n",
    "y_train = train_generator.classes\n",
    "c_weights = class_weight.compute_class_weight('balanced',\n",
    "                                             np.unique(y_train),\n",
    "                                             np.array(y_train))\n",
    "class_weight_dict = dict(enumerate(c_weights))"
   ]
  },
  {
   "cell_type": "code",
   "execution_count": 17,
   "metadata": {},
   "outputs": [
    {
     "data": {
      "text/plain": [
       "array([2.39570552, 3.33760684, 0.68031359, 5.20666667, 1.63389121,\n",
       "       0.33234043])"
      ]
     },
     "execution_count": 17,
     "metadata": {},
     "output_type": "execute_result"
    }
   ],
   "source": [
    "c_weights"
   ]
  },
  {
   "cell_type": "code",
   "execution_count": 85,
   "metadata": {},
   "outputs": [
    {
     "name": "stdout",
     "output_type": "stream",
     "text": [
      "Epoch 1/25\n",
      "98/98 [==============================] - 12s 121ms/step - loss: 0.5764 - accuracy: 0.8032 - val_loss: 1.8503 - val_accuracy: 0.0734\n",
      "Epoch 2/25\n",
      "98/98 [==============================] - 12s 119ms/step - loss: 0.2624 - accuracy: 0.9206 - val_loss: 2.6529 - val_accuracy: 0.0734\n",
      "Epoch 3/25\n",
      "98/98 [==============================] - 12s 118ms/step - loss: 0.1676 - accuracy: 0.9454 - val_loss: 3.9460 - val_accuracy: 0.0734\n",
      "Epoch 4/25\n",
      "98/98 [==============================] - 12s 120ms/step - loss: 0.1219 - accuracy: 0.9586 - val_loss: 6.9521 - val_accuracy: 0.0734\n",
      "Epoch 5/25\n",
      "98/98 [==============================] - 12s 120ms/step - loss: 0.1009 - accuracy: 0.9637 - val_loss: 2.7816 - val_accuracy: 0.4949\n",
      "Epoch 6/25\n",
      "98/98 [==============================] - 12s 119ms/step - loss: 0.0999 - accuracy: 0.9659 - val_loss: 2.2255 - val_accuracy: 0.3771\n",
      "Epoch 7/25\n",
      "98/98 [==============================] - 12s 120ms/step - loss: 0.0637 - accuracy: 0.9795 - val_loss: 0.4838 - val_accuracy: 0.8976\n",
      "Epoch 8/25\n",
      "98/98 [==============================] - 12s 122ms/step - loss: 0.0837 - accuracy: 0.9723 - val_loss: 0.7633 - val_accuracy: 0.8754\n",
      "Epoch 9/25\n",
      "98/98 [==============================] - 12s 122ms/step - loss: 0.0695 - accuracy: 0.9757 - val_loss: 1.0201 - val_accuracy: 0.8123\n",
      "Epoch 10/25\n",
      "98/98 [==============================] - 12s 121ms/step - loss: 0.0494 - accuracy: 0.9846 - val_loss: 0.3819 - val_accuracy: 0.9164\n",
      "Epoch 11/25\n",
      "98/98 [==============================] - 12s 122ms/step - loss: 0.0483 - accuracy: 0.9825 - val_loss: 3.1073 - val_accuracy: 0.4863\n",
      "Epoch 12/25\n",
      "98/98 [==============================] - 12s 122ms/step - loss: 0.0415 - accuracy: 0.9863 - val_loss: 4.4653 - val_accuracy: 0.4232\n",
      "Epoch 13/25\n",
      "98/98 [==============================] - 12s 126ms/step - loss: 0.0258 - accuracy: 0.9915 - val_loss: 0.4080 - val_accuracy: 0.9147\n",
      "Epoch 14/25\n",
      "98/98 [==============================] - 12s 124ms/step - loss: 0.0341 - accuracy: 0.9868 - val_loss: 0.3675 - val_accuracy: 0.9232\n",
      "Epoch 15/25\n",
      "98/98 [==============================] - 12s 120ms/step - loss: 0.0325 - accuracy: 0.9876 - val_loss: 0.5924 - val_accuracy: 0.8891\n",
      "Epoch 16/25\n",
      "98/98 [==============================] - 12s 121ms/step - loss: 0.0268 - accuracy: 0.9902 - val_loss: 6.1601 - val_accuracy: 0.3584\n",
      "Epoch 17/25\n",
      "98/98 [==============================] - 12s 120ms/step - loss: 0.0512 - accuracy: 0.9855 - val_loss: 2.9838 - val_accuracy: 0.6092\n",
      "Epoch 18/25\n",
      "98/98 [==============================] - 12s 121ms/step - loss: 0.0251 - accuracy: 0.9915 - val_loss: 0.3372 - val_accuracy: 0.9181\n",
      "Epoch 19/25\n",
      "98/98 [==============================] - 12s 120ms/step - loss: 0.0092 - accuracy: 0.9979 - val_loss: 0.2977 - val_accuracy: 0.9454\n",
      "Epoch 20/25\n",
      "98/98 [==============================] - 12s 119ms/step - loss: 0.0105 - accuracy: 0.9970 - val_loss: 2.5876 - val_accuracy: 0.5683\n",
      "Epoch 21/25\n",
      "98/98 [==============================] - 12s 119ms/step - loss: 0.0512 - accuracy: 0.9851 - val_loss: 1.6774 - val_accuracy: 0.7133\n",
      "Epoch 22/25\n",
      "98/98 [==============================] - 12s 122ms/step - loss: 0.0508 - accuracy: 0.9838 - val_loss: 0.6477 - val_accuracy: 0.8874\n",
      "Epoch 23/25\n",
      "98/98 [==============================] - 12s 122ms/step - loss: 0.0511 - accuracy: 0.9821 - val_loss: 0.7101 - val_accuracy: 0.8532\n",
      "Epoch 24/25\n",
      "98/98 [==============================] - 12s 123ms/step - loss: 0.0382 - accuracy: 0.9868 - val_loss: 1.7328 - val_accuracy: 0.8089\n",
      "Epoch 25/25\n",
      "98/98 [==============================] - 12s 123ms/step - loss: 0.0128 - accuracy: 0.9970 - val_loss: 0.3933 - val_accuracy: 0.9164\n"
     ]
    }
   ],
   "source": [
    "#without class_weights\n",
    "\n",
    "model = make_model(input_shape=image_size + (3,), num_classes=6)\n",
    "epochs = 25\n",
    "\n",
    "callbacks = [\n",
    "    keras.callbacks.ModelCheckpoint(\"save_at_{epoch}.h5\"),\n",
    "]\n",
    "model.compile(\n",
    "    optimizer=keras.optimizers.Adam(1e-3),\n",
    "    loss=\"categorical_crossentropy\",\n",
    "    metrics=[\"accuracy\"],\n",
    ")\n",
    "history_basic = model.fit(\n",
    "    train_generator,validation_data=validation_generator,epochs=epochs\n",
    "    #    train_generator,validation_data=validation_generator,epochs=epochs, callbacks=callbacks\n",
    ")"
   ]
  },
  {
   "cell_type": "code",
   "execution_count": 23,
   "metadata": {},
   "outputs": [
    {
     "name": "stdout",
     "output_type": "stream",
     "text": [
      "Epoch 1/25\n",
      "2343/2343 [==============================] - 19s 8ms/step - loss: 2.0190 - accuracy: 0.2027 - val_loss: 1.9592 - val_accuracy: 0.1775\n",
      "Epoch 2/25\n",
      "2343/2343 [==============================] - 19s 8ms/step - loss: 1.6919 - accuracy: 0.2868 - val_loss: 2.6603 - val_accuracy: 0.0256\n",
      "Epoch 3/25\n",
      "2343/2343 [==============================] - 19s 8ms/step - loss: 1.5555 - accuracy: 0.3461 - val_loss: 1.7397 - val_accuracy: 0.4215\n",
      "Epoch 4/25\n",
      "2343/2343 [==============================] - 19s 8ms/step - loss: 1.4276 - accuracy: 0.4255 - val_loss: 1.5650 - val_accuracy: 0.4198\n",
      "Epoch 5/25\n",
      "2343/2343 [==============================] - 20s 8ms/step - loss: 1.1492 - accuracy: 0.5570 - val_loss: 1.9097 - val_accuracy: 0.2543\n",
      "Epoch 6/25\n",
      "2343/2343 [==============================] - 20s 8ms/step - loss: 0.9115 - accuracy: 0.6773 - val_loss: 1.2038 - val_accuracy: 0.6348\n",
      "Epoch 7/25\n",
      "2343/2343 [==============================] - 22s 10ms/step - loss: 0.6688 - accuracy: 0.7802 - val_loss: 1.4516 - val_accuracy: 0.3584\n",
      "Epoch 8/25\n",
      "2343/2343 [==============================] - 24s 10ms/step - loss: 0.5302 - accuracy: 0.8203 - val_loss: 1.0316 - val_accuracy: 0.5836\n",
      "Epoch 9/25\n",
      "2343/2343 [==============================] - 24s 10ms/step - loss: 0.4560 - accuracy: 0.8493 - val_loss: 2.3846 - val_accuracy: 0.3413\n",
      "Epoch 10/25\n",
      "2343/2343 [==============================] - 22s 9ms/step - loss: 0.3273 - accuracy: 0.8912 - val_loss: 1.2477 - val_accuracy: 0.5000\n",
      "Epoch 11/25\n",
      "2343/2343 [==============================] - 21s 9ms/step - loss: 0.3363 - accuracy: 0.8890 - val_loss: 1.5895 - val_accuracy: 0.5870\n",
      "Epoch 12/25\n",
      "2343/2343 [==============================] - 20s 8ms/step - loss: 0.2558 - accuracy: 0.9146 - val_loss: 0.8507 - val_accuracy: 0.7235\n",
      "Epoch 13/25\n",
      "2343/2343 [==============================] - 20s 8ms/step - loss: 0.1630 - accuracy: 0.9321 - val_loss: 2.0150 - val_accuracy: 0.5461\n",
      "Epoch 14/25\n",
      "2343/2343 [==============================] - 19s 8ms/step - loss: 0.1717 - accuracy: 0.9300 - val_loss: 0.8817 - val_accuracy: 0.6928\n",
      "Epoch 15/25\n",
      "2343/2343 [==============================] - 20s 8ms/step - loss: 0.1910 - accuracy: 0.9326 - val_loss: 0.7305 - val_accuracy: 0.7628\n",
      "Epoch 16/25\n",
      "2343/2343 [==============================] - 19s 8ms/step - loss: 0.1528 - accuracy: 0.9449 - val_loss: 1.3427 - val_accuracy: 0.4915\n",
      "Epoch 17/25\n",
      "2343/2343 [==============================] - 19s 8ms/step - loss: 0.1066 - accuracy: 0.9565 - val_loss: 1.8604 - val_accuracy: 0.4522\n",
      "Epoch 18/25\n",
      "2343/2343 [==============================] - 19s 8ms/step - loss: 0.1749 - accuracy: 0.9377 - val_loss: 1.2015 - val_accuracy: 0.6451\n",
      "Epoch 19/25\n",
      "2343/2343 [==============================] - 20s 8ms/step - loss: 0.1093 - accuracy: 0.9582 - val_loss: 0.9527 - val_accuracy: 0.7235\n",
      "Epoch 20/25\n",
      "2343/2343 [==============================] - 20s 9ms/step - loss: 0.0679 - accuracy: 0.9718 - val_loss: 0.9269 - val_accuracy: 0.7338\n",
      "Epoch 21/25\n",
      "2343/2343 [==============================] - 20s 9ms/step - loss: 0.1724 - accuracy: 0.9560 - val_loss: 0.8672 - val_accuracy: 0.7509\n",
      "Epoch 22/25\n",
      "2343/2343 [==============================] - 20s 9ms/step - loss: 0.0776 - accuracy: 0.9671 - val_loss: 0.8168 - val_accuracy: 0.7867\n",
      "Epoch 23/25\n",
      "2343/2343 [==============================] - 21s 9ms/step - loss: 0.0891 - accuracy: 0.9671 - val_loss: 0.8419 - val_accuracy: 0.7611\n",
      "Epoch 24/25\n",
      "2343/2343 [==============================] - 21s 9ms/step - loss: 0.0815 - accuracy: 0.9654 - val_loss: 0.9003 - val_accuracy: 0.7014\n",
      "Epoch 25/25\n",
      "2343/2343 [==============================] - 20s 8ms/step - loss: 0.0571 - accuracy: 0.9761 - val_loss: 0.9885 - val_accuracy: 0.7133\n"
     ]
    }
   ],
   "source": [
    "#with class_weights\n",
    "\n",
    "model = make_model(input_shape=image_size + (3,), num_classes=6)\n",
    "epochs = 25\n",
    "\n",
    "callbacks = [\n",
    "    keras.callbacks.ModelCheckpoint(\"save_at_{epoch}.h5\"),\n",
    "]\n",
    "model.compile(\n",
    "    optimizer=keras.optimizers.Adam(1e-3),\n",
    "    loss=\"categorical_crossentropy\",\n",
    "    metrics=[\"accuracy\"],\n",
    ")\n",
    "history_plus_weights = model.fit(\n",
    "    train_generator,validation_data=validation_generator,epochs=epochs, class_weight=class_weight_dict\n",
    "    #    train_generator,validation_data=validation_generator,epochs=epochs, callbacks=callbacks\n",
    ")"
   ]
  },
  {
   "cell_type": "code",
   "execution_count": 26,
   "metadata": {},
   "outputs": [
    {
     "data": {
      "text/plain": [
       "<matplotlib.axes._subplots.AxesSubplot at 0x7f34405ecc88>"
      ]
     },
     "execution_count": 26,
     "metadata": {},
     "output_type": "execute_result"
    },
    {
     "data": {
      "image/png": "[encoded data removed]",
      "text/plain": [
       "<Figure size 432x288 with 1 Axes>"
      ]
     },
     "metadata": {
      "needs_background": "light"
     },
     "output_type": "display_data"
    }
   ],
   "source": [
    "import matplotlib.pyplot as plt\n",
    "pd.DataFrame(history_basic.history)['val_accuracy'].plot() # blue \n",
    "pd.DataFrame(history_plus_weights.history)['val_accuracy'].plot() # yellow"
   ]
  },
  {
   "cell_type": "code",
   "execution_count": null,
   "metadata": {},
   "outputs": [],
   "source": [
    "# img = keras.preprocessing.image.load_img(\n",
    "#     \"/tf/beetlevision/images/rbi_100.jpg\", target_size=image_size\n",
    "# )\n",
    "# img_array = keras.preprocessing.image.img_to_array(img)\n",
    "# img_array = tf.expand_dims(img_array, 0)  # Create batch axis\n",
    "\n",
    "# predictions = model.predict(img_array)\n",
    "# predictions\n"
   ]
  },
  {
   "cell_type": "code",
   "execution_count": 31,
   "metadata": {},
   "outputs": [
    {
     "data": {
      "text/plain": [
       "<keras_preprocessing.image.dataframe_iterator.DataFrameIterator at 0x7f33c866bf60>"
      ]
     },
     "execution_count": 31,
     "metadata": {},
     "output_type": "execute_result"
    }
   ],
   "source": [
    "train_generator"
   ]
  },
  {
   "cell_type": "code",
   "execution_count": 68,
   "metadata": {},
   "outputs": [
    {
     "name": "stdout",
     "output_type": "stream",
     "text": [
      "Found 2343 validated image filenames belonging to 6 classes.\n",
      "Found 586 validated image filenames belonging to 6 classes.\n"
     ]
    }
   ],
   "source": [
    "#with class_weights\n",
    "\n",
    "\n",
    "\n",
    "image_size = (58,58)\n",
    "datagen=ImageDataGenerator(rescale=1./255)\n",
    "train_generator=datagen.flow_from_dataframe(dataframe=top6_train,\n",
    "                                            directory=\"/tf/beetlevision/images\",\n",
    "                                            x_col=\"Filename:\", y_col=\"Family:\",\n",
    "                                            class_mode=\"categorical\",\n",
    "                                            target_size=image_size,\n",
    "                                            batch_size=24)\n",
    "validation_generator=datagen.flow_from_dataframe(dataframe=top6_valid,\n",
    "                                            directory=\"/tf/beetlevision/images\",\n",
    "                                            x_col=\"Filename:\", y_col=\"Family:\",\n",
    "                                            class_mode=\"categorical\",\n",
    "                                            target_size=image_size,\n",
    "                                            batch_size=24)\n",
    "\n",
    "\n",
    "model = make_model(input_shape=image_size + (3,), num_classes=6)\n",
    "epochs = 25\n",
    "\n",
    "callbacks = [\n",
    "    keras.callbacks.ModelCheckpoint(\"save_at_{epoch}.h5\"),\n",
    "]\n",
    "model.compile(\n",
    "    optimizer=keras.optimizers.Adam(1e-3),\n",
    "    loss=\"categorical_crossentropy\",\n",
    "    metrics=[\"accuracy\"],\n",
    ")"
   ]
  },
  {
   "cell_type": "code",
   "execution_count": 73,
   "metadata": {},
   "outputs": [
    {
     "data": {
      "text/plain": [
       "keras_preprocessing.image.dataframe_iterator.DataFrameIterator"
      ]
     },
     "execution_count": 73,
     "metadata": {},
     "output_type": "execute_result"
    }
   ],
   "source": [
    "type(train_generator)"
   ]
  },
  {
   "cell_type": "code",
   "execution_count": 18,
   "metadata": {},
   "outputs": [
    {
     "ename": "NameError",
     "evalue": "name 'model' is not defined",
     "output_type": "error",
     "traceback": [
      "\u001b[0;31m---------------------------------------------------------------------------\u001b[0m",
      "\u001b[0;31mNameError\u001b[0m                                 Traceback (most recent call last)",
      "\u001b[0;32m<ipython-input-18-88a23b144c1c>\u001b[0m in \u001b[0;36m<module>\u001b[0;34m\u001b[0m\n\u001b[0;32m----> 1\u001b[0;31m history_plus_weights = model.fit(\n\u001b[0m\u001b[1;32m      2\u001b[0m     \u001b[0mtrain_generator\u001b[0m\u001b[0;34m,\u001b[0m \u001b[0my\u001b[0m \u001b[0;34m=\u001b[0m \u001b[0msmoothed_labels\u001b[0m\u001b[0;34m,\u001b[0m\u001b[0mvalidation_data\u001b[0m\u001b[0;34m=\u001b[0m\u001b[0mvalidation_generator\u001b[0m\u001b[0;34m,\u001b[0m\u001b[0mepochs\u001b[0m\u001b[0;34m=\u001b[0m\u001b[0mepochs\u001b[0m\u001b[0;34m,\u001b[0m \u001b[0mclass_weight\u001b[0m\u001b[0;34m=\u001b[0m\u001b[0mclass_weight_dict\u001b[0m\u001b[0;34m\u001b[0m\u001b[0;34m\u001b[0m\u001b[0m\n\u001b[1;32m      3\u001b[0m     \u001b[0;31m#    train_generator,validation_data=validation_generator,epochs=epochs, callbacks=callbacks\u001b[0m\u001b[0;34m\u001b[0m\u001b[0;34m\u001b[0m\u001b[0;34m\u001b[0m\u001b[0m\n\u001b[1;32m      4\u001b[0m )\n",
      "\u001b[0;31mNameError\u001b[0m: name 'model' is not defined"
     ]
    }
   ],
   "source": [
    "history_plus_weights = model.fit(\n",
    "    train_generator, y = smoothed_labels,validation_data=validation_generator,epochs=epochs, class_weight=class_weight_dict\n",
    "    #    train_generator,validation_data=validation_generator,epochs=epochs, callbacks=callbacks\n",
    ")"
   ]
  },
  {
   "cell_type": "code",
   "execution_count": 80,
   "metadata": {},
   "outputs": [
    {
     "data": {
      "text/plain": [
       "<matplotlib.axes._subplots.AxesSubplot at 0x7f34286294e0>"
      ]
     },
     "execution_count": 80,
     "metadata": {},
     "output_type": "execute_result"
    },
    {
     "data": {
      "image/png": "[encoded data removed]",
      "text/plain": [
       "<Figure size 432x288 with 1 Axes>"
      ]
     },
     "metadata": {
      "needs_background": "light"
     },
     "output_type": "display_data"
    }
   ],
   "source": [
    "pd.DataFrame(history_basic.history)['val_accuracy'].plot() # blue \n",
    "pd.DataFrame(history_plus_weights.history)['val_accuracy'].plot() # yellow"
   ]
  },
  {
   "cell_type": "code",
   "execution_count": 64,
   "metadata": {},
   "outputs": [],
   "source": [
    "# FROM: https://machinelearningmastery.com/how-to-one-hot-encode-sequence-data-in-python/\n",
    "from numpy import array\n",
    "from numpy import argmax\n",
    "from sklearn.preprocessing import LabelEncoder\n",
    "from sklearn.preprocessing import OneHotEncoder\n",
    "# define example\n",
    "\n",
    "def ohe(data):\n",
    "    \"\"\"\n",
    "    one-hot-encoding\"\"\"\n",
    "    values = array(data)\n",
    "    print(values)\n",
    "    # integer encode\n",
    "    label_encoder = LabelEncoder()\n",
    "    integer_encoded = label_encoder.fit_transform(values)\n",
    "    print(integer_encoded)\n",
    "    # binary encode\n",
    "    onehot_encoder = OneHotEncoder(sparse=False)\n",
    "    integer_encoded = integer_encoded.reshape(len(integer_encoded), 1)\n",
    "    onehot_encoded = onehot_encoder.fit_transform(integer_encoded)\n",
    "    print(onehot_encoded)\n",
    "    # invert first example\n",
    "    inverted = label_encoder.inverse_transform([argmax(onehot_encoded[0, :])])\n",
    "    return onehot_encoded"
   ]
  },
  {
   "cell_type": "code",
   "execution_count": 70,
   "metadata": {},
   "outputs": [
    {
     "name": "stdout",
     "output_type": "stream",
     "text": [
      "[5 5 2 ... 5 4 0]\n",
      "[5 5 2 ... 5 4 0]\n",
      "[[0. 0. 0. 0. 0. 1.]\n",
      " [0. 0. 0. 0. 0. 1.]\n",
      " [0. 0. 1. 0. 0. 0.]\n",
      " ...\n",
      " [0. 0. 0. 0. 0. 1.]\n",
      " [0. 0. 0. 0. 1. 0.]\n",
      " [1. 0. 0. 0. 0. 0.]]\n"
     ]
    },
    {
     "data": {
      "text/plain": [
       "(2343, 6)"
      ]
     },
     "execution_count": 70,
     "metadata": {},
     "output_type": "execute_result"
    }
   ],
   "source": [
    "smoothed_labels = smooth_labels(ohe(train_generator.classes))\n",
    "smoothed_labels.shape"
   ]
  },
  {
   "cell_type": "code",
   "execution_count": 66,
   "metadata": {},
   "outputs": [],
   "source": [
    "# Looks like the keras object which I used to load in the data is not compatible with one-hot-encoding.\n",
    "    #it may require loading in the data another way."
   ]
  },
  {
   "cell_type": "code",
   "execution_count": 56,
   "metadata": {},
   "outputs": [],
   "source": [
    "# FROM : https://www.pyimagesearch.com/2019/12/30/label-smoothing-with-keras-tensorflow-and-deep-learning/\n",
    "def smooth_labels(labels, factor=0.1):\n",
    "\t# smooth the labels\n",
    "\tlabels *= (1 - factor)\n",
    "\tlabels += (factor / labels.shape[1])\n",
    "\t# returned the smoothed labels\n",
    "\treturn labels"
   ]
  },
  {
   "cell_type": "code",
   "execution_count": 61,
   "metadata": {},
   "outputs": [
    {
     "data": {
      "text/plain": [
       "array([[0.01666667, 0.01666667, 0.01666667, 0.01666667, 0.01666667,\n",
       "        0.91666667],\n",
       "       [0.01666667, 0.01666667, 0.01666667, 0.01666667, 0.01666667,\n",
       "        0.91666667],\n",
       "       [0.01666667, 0.01666667, 0.91666667, 0.01666667, 0.01666667,\n",
       "        0.01666667],\n",
       "       ...,\n",
       "       [0.01666667, 0.01666667, 0.01666667, 0.01666667, 0.01666667,\n",
       "        0.91666667],\n",
       "       [0.01666667, 0.01666667, 0.01666667, 0.01666667, 0.91666667,\n",
       "        0.01666667],\n",
       "       [0.91666667, 0.01666667, 0.01666667, 0.01666667, 0.01666667,\n",
       "        0.01666667]])"
      ]
     },
     "execution_count": 61,
     "metadata": {},
     "output_type": "execute_result"
    }
   ],
   "source": [
    "smooth_labels(onehot_encoded)"
   ]
  },
  {
   "cell_type": "code",
   "execution_count": null,
   "metadata": {},
   "outputs": [],
   "source": []
  },
  {
   "cell_type": "code",
   "execution_count": 37,
   "metadata": {},
   "outputs": [
    {
     "data": {
      "text/plain": [
       "{'Buprestidae': 0,\n",
       " 'Carabidae': 1,\n",
       " 'Cerambycidae': 2,\n",
       " 'Cicindelidae': 3,\n",
       " 'Lucanidae': 4,\n",
       " 'Scarabaeidae': 5}"
      ]
     },
     "execution_count": 37,
     "metadata": {},
     "output_type": "execute_result"
    }
   ],
   "source": [
    "train_generator.class_indices"
   ]
  },
  {
   "cell_type": "code",
   "execution_count": 40,
   "metadata": {},
   "outputs": [
    {
     "data": {
      "text/plain": [
       "array([1, 1, 2, 6])"
      ]
     },
     "execution_count": 40,
     "metadata": {},
     "output_type": "execute_result"
    }
   ],
   "source": [
    "from sklearn import preprocessing\n",
    "le = preprocessing.LabelEncoder()\n",
    "le.fit([1, 2, 2, 6])\n",
    "\n",
    "le.classes_\n",
    "\n",
    "le.transform([1, 1, 2, 6])\n",
    "\n",
    "le.inverse_transform([0, 0, 1, 2])"
   ]
  },
  {
   "cell_type": "code",
   "execution_count": 43,
   "metadata": {},
   "outputs": [
    {
     "data": {
      "text/plain": [
       "array([0, 0, 1, 2])"
      ]
     },
     "execution_count": 43,
     "metadata": {},
     "output_type": "execute_result"
    }
   ],
   "source": [
    "from sklearn import preprocessing\n",
    "le = preprocessing.LabelEncoder()\n",
    "le.fit(y_train)\n",
    "\n",
    "le.classes_\n",
    "le.transform(y_train)\n",
    "le.inverse_transform([0, 0, 1, 2])"
   ]
  },
  {
   "cell_type": "code",
   "execution_count": 75,
   "metadata": {},
   "outputs": [],
   "source": [
    "loss = keras.losses.CategoricalCrossentropy(label_smoothing=.1)"
   ]
  },
  {
   "cell_type": "code",
   "execution_count": 81,
   "metadata": {},
   "outputs": [
    {
     "name": "stdout",
     "output_type": "stream",
     "text": [
      "Found 2343 validated image filenames belonging to 6 classes.\n",
      "Found 586 validated image filenames belonging to 6 classes.\n",
      "Epoch 1/25\n",
      "98/98 [==============================] - 12s 127ms/step - loss: 0.9069 - accuracy: 0.7926 - val_loss: 1.7408 - val_accuracy: 0.5000\n",
      "Epoch 2/25\n",
      "98/98 [==============================] - 12s 121ms/step - loss: 0.6715 - accuracy: 0.9087 - val_loss: 2.0584 - val_accuracy: 0.0734\n",
      "Epoch 3/25\n",
      "98/98 [==============================] - 12s 124ms/step - loss: 0.6045 - accuracy: 0.9449 - val_loss: 2.4506 - val_accuracy: 0.0734\n",
      "Epoch 4/25\n",
      "98/98 [==============================] - 12s 122ms/step - loss: 0.5402 - accuracy: 0.9761 - val_loss: 2.4990 - val_accuracy: 0.0734\n",
      "Epoch 5/25\n",
      "98/98 [==============================] - 12s 124ms/step - loss: 0.5003 - accuracy: 0.9936 - val_loss: 2.2288 - val_accuracy: 0.0802\n",
      "Epoch 6/25\n",
      "98/98 [==============================] - 12s 122ms/step - loss: 0.4827 - accuracy: 0.9970 - val_loss: 1.3050 - val_accuracy: 0.5478\n",
      "Epoch 7/25\n",
      "98/98 [==============================] - 12s 121ms/step - loss: 0.4667 - accuracy: 0.9991 - val_loss: 0.7706 - val_accuracy: 0.8635\n",
      "Epoch 8/25\n",
      "98/98 [==============================] - 12s 123ms/step - loss: 0.4576 - accuracy: 1.0000 - val_loss: 0.5543 - val_accuracy: 0.9488\n",
      "Epoch 9/25\n",
      "98/98 [==============================] - 12s 121ms/step - loss: 0.4491 - accuracy: 1.0000 - val_loss: 0.5411 - val_accuracy: 0.9505\n",
      "Epoch 10/25\n",
      "98/98 [==============================] - 12s 122ms/step - loss: 0.4471 - accuracy: 1.0000 - val_loss: 0.5493 - val_accuracy: 0.9505\n",
      "Epoch 11/25\n",
      "98/98 [==============================] - 12s 120ms/step - loss: 0.4479 - accuracy: 1.0000 - val_loss: 0.5399 - val_accuracy: 0.9454\n",
      "Epoch 12/25\n",
      "98/98 [==============================] - 12s 120ms/step - loss: 0.4414 - accuracy: 1.0000 - val_loss: 0.5527 - val_accuracy: 0.9420\n",
      "Epoch 13/25\n",
      "98/98 [==============================] - 12s 121ms/step - loss: 0.4385 - accuracy: 1.0000 - val_loss: 0.5415 - val_accuracy: 0.9471\n",
      "Epoch 14/25\n",
      "98/98 [==============================] - 12s 122ms/step - loss: 0.4362 - accuracy: 1.0000 - val_loss: 0.5513 - val_accuracy: 0.9505\n",
      "Epoch 15/25\n",
      "98/98 [==============================] - 12s 121ms/step - loss: 0.4733 - accuracy: 0.9859 - val_loss: 2.9382 - val_accuracy: 0.3925\n",
      "Epoch 16/25\n",
      "98/98 [==============================] - 12s 123ms/step - loss: 0.5189 - accuracy: 0.9723 - val_loss: 0.9469 - val_accuracy: 0.8345\n",
      "Epoch 17/25\n",
      "98/98 [==============================] - 12s 122ms/step - loss: 0.5115 - accuracy: 0.9748 - val_loss: 1.9130 - val_accuracy: 0.2645\n",
      "Epoch 18/25\n",
      "98/98 [==============================] - 12s 125ms/step - loss: 0.4604 - accuracy: 0.9949 - val_loss: 0.5881 - val_accuracy: 0.9147\n",
      "Epoch 19/25\n",
      "98/98 [==============================] - 12s 123ms/step - loss: 0.4417 - accuracy: 1.0000 - val_loss: 0.5158 - val_accuracy: 0.9608\n",
      "Epoch 20/25\n",
      "98/98 [==============================] - 12s 121ms/step - loss: 0.4381 - accuracy: 1.0000 - val_loss: 0.5456 - val_accuracy: 0.9505\n",
      "Epoch 21/25\n",
      "98/98 [==============================] - 12s 123ms/step - loss: 0.4346 - accuracy: 1.0000 - val_loss: 0.5078 - val_accuracy: 0.9556\n",
      "Epoch 22/25\n",
      "98/98 [==============================] - 13s 129ms/step - loss: 0.4315 - accuracy: 1.0000 - val_loss: 0.5068 - val_accuracy: 0.9573\n",
      "Epoch 23/25\n",
      "98/98 [==============================] - 12s 123ms/step - loss: 0.4322 - accuracy: 1.0000 - val_loss: 0.5099 - val_accuracy: 0.9556\n",
      "Epoch 24/25\n",
      "98/98 [==============================] - 12s 121ms/step - loss: 0.4308 - accuracy: 1.0000 - val_loss: 0.5089 - val_accuracy: 0.9556\n",
      "Epoch 25/25\n",
      "98/98 [==============================] - 13s 128ms/step - loss: 0.4303 - accuracy: 1.0000 - val_loss: 0.5277 - val_accuracy: 0.9505\n"
     ]
    }
   ],
   "source": [
    "#with label_smoothing\n",
    "\n",
    "\n",
    "\n",
    "image_size = (58,58)\n",
    "datagen=ImageDataGenerator(rescale=1./255)\n",
    "train_generator=datagen.flow_from_dataframe(dataframe=top6_train,\n",
    "                                            directory=\"/tf/beetlevision/images\",\n",
    "                                            x_col=\"Filename:\", y_col=\"Family:\",\n",
    "                                            class_mode=\"categorical\",\n",
    "                                            target_size=image_size,\n",
    "                                            batch_size=24)\n",
    "validation_generator=datagen.flow_from_dataframe(dataframe=top6_valid,\n",
    "                                            directory=\"/tf/beetlevision/images\",\n",
    "                                            x_col=\"Filename:\", y_col=\"Family:\",\n",
    "                                            class_mode=\"categorical\",\n",
    "                                            target_size=image_size,\n",
    "                                            batch_size=24)\n",
    "\n",
    "\n",
    "model = make_model(input_shape=image_size + (3,), num_classes=6)\n",
    "epochs = 25\n",
    "\n",
    "callbacks = [\n",
    "    keras.callbacks.ModelCheckpoint(\"save_at_{epoch}.h5\"),\n",
    "]\n",
    "loss = keras.losses.CategoricalCrossentropy(label_smoothing=.1)\n",
    "model.compile(\n",
    "    optimizer=keras.optimizers.Adam(1e-3),\n",
    "    loss=loss,\n",
    "    metrics=[\"accuracy\"],\n",
    ")\n",
    "\n",
    "history_plus_smooth = model.fit(\n",
    "    #train_generator,validation_data=validation_generator,epochs=epochs, class_weight=class_weight_dict\n",
    "        train_generator,validation_data=validation_generator,epochs=epochs, callbacks=callbacks\n",
    ")"
   ]
  },
  {
   "cell_type": "code",
   "execution_count": 82,
   "metadata": {},
   "outputs": [
    {
     "name": "stdout",
     "output_type": "stream",
     "text": [
      "Found 2343 validated image filenames belonging to 6 classes.\n",
      "Found 586 validated image filenames belonging to 6 classes.\n",
      "Epoch 1/25\n",
      "98/98 [==============================] - 12s 123ms/step - loss: 1.2269 - accuracy: 0.6381 - val_loss: 1.7453 - val_accuracy: 0.1041\n",
      "Epoch 2/25\n",
      "98/98 [==============================] - 12s 119ms/step - loss: 0.8338 - accuracy: 0.8357 - val_loss: 2.0335 - val_accuracy: 0.0734\n",
      "Epoch 3/25\n",
      "98/98 [==============================] - 12s 125ms/step - loss: 0.6724 - accuracy: 0.9061 - val_loss: 2.4084 - val_accuracy: 0.0734\n",
      "Epoch 4/25\n",
      "98/98 [==============================] - 12s 123ms/step - loss: 0.5781 - accuracy: 0.9518 - val_loss: 2.3416 - val_accuracy: 0.0768\n",
      "Epoch 5/25\n",
      "98/98 [==============================] - 12s 121ms/step - loss: 0.5210 - accuracy: 0.9821 - val_loss: 2.1869 - val_accuracy: 0.1024\n",
      "Epoch 6/25\n",
      "98/98 [==============================] - 12s 122ms/step - loss: 0.4942 - accuracy: 0.9898 - val_loss: 1.6490 - val_accuracy: 0.5222\n",
      "Epoch 7/25\n",
      "98/98 [==============================] - 12s 120ms/step - loss: 0.4772 - accuracy: 0.9953 - val_loss: 1.1863 - val_accuracy: 0.5939\n",
      "Epoch 8/25\n",
      "98/98 [==============================] - 12s 122ms/step - loss: 0.4645 - accuracy: 1.0000 - val_loss: 0.6976 - val_accuracy: 0.9096\n",
      "Epoch 9/25\n",
      "98/98 [==============================] - 12s 125ms/step - loss: 0.4589 - accuracy: 0.9979 - val_loss: 0.5746 - val_accuracy: 0.9386\n",
      "Epoch 10/25\n",
      "98/98 [==============================] - 12s 119ms/step - loss: 0.4534 - accuracy: 1.0000 - val_loss: 0.5995 - val_accuracy: 0.9369\n",
      "Epoch 11/25\n",
      "98/98 [==============================] - 12s 119ms/step - loss: 0.4503 - accuracy: 0.9996 - val_loss: 0.6215 - val_accuracy: 0.9232\n",
      "Epoch 12/25\n",
      "98/98 [==============================] - 12s 118ms/step - loss: 0.4482 - accuracy: 0.9983 - val_loss: 0.6009 - val_accuracy: 0.9334\n",
      "Epoch 13/25\n",
      "98/98 [==============================] - 12s 118ms/step - loss: 0.4418 - accuracy: 1.0000 - val_loss: 0.5466 - val_accuracy: 0.9488\n",
      "Epoch 14/25\n",
      "98/98 [==============================] - 12s 118ms/step - loss: 0.4455 - accuracy: 1.0000 - val_loss: 0.5830 - val_accuracy: 0.9249\n",
      "Epoch 15/25\n",
      "98/98 [==============================] - 12s 117ms/step - loss: 0.4473 - accuracy: 0.9987 - val_loss: 0.5823 - val_accuracy: 0.9403\n",
      "Epoch 16/25\n",
      "98/98 [==============================] - 11s 117ms/step - loss: 0.4415 - accuracy: 1.0000 - val_loss: 0.5515 - val_accuracy: 0.9454\n",
      "Epoch 17/25\n",
      "98/98 [==============================] - 11s 117ms/step - loss: 0.4388 - accuracy: 1.0000 - val_loss: 0.5582 - val_accuracy: 0.9471\n",
      "Epoch 18/25\n",
      "98/98 [==============================] - 11s 117ms/step - loss: 0.4380 - accuracy: 0.9996 - val_loss: 0.5675 - val_accuracy: 0.9403\n",
      "Epoch 19/25\n",
      "98/98 [==============================] - 11s 117ms/step - loss: 0.4381 - accuracy: 1.0000 - val_loss: 0.5421 - val_accuracy: 0.9471\n",
      "Epoch 20/25\n",
      "98/98 [==============================] - 11s 117ms/step - loss: 0.4366 - accuracy: 1.0000 - val_loss: 0.5426 - val_accuracy: 0.9488\n",
      "Epoch 21/25\n",
      "98/98 [==============================] - 11s 117ms/step - loss: 0.4357 - accuracy: 1.0000 - val_loss: 0.5350 - val_accuracy: 0.9471\n",
      "Epoch 22/25\n",
      "98/98 [==============================] - 11s 117ms/step - loss: 0.4350 - accuracy: 1.0000 - val_loss: 0.5880 - val_accuracy: 0.9386\n",
      "Epoch 23/25\n",
      "98/98 [==============================] - 12s 117ms/step - loss: 0.4346 - accuracy: 1.0000 - val_loss: 0.5345 - val_accuracy: 0.9505\n",
      "Epoch 24/25\n",
      "98/98 [==============================] - 11s 117ms/step - loss: 0.4326 - accuracy: 1.0000 - val_loss: 0.5289 - val_accuracy: 0.9505\n",
      "Epoch 25/25\n",
      "98/98 [==============================] - 11s 117ms/step - loss: 0.4332 - accuracy: 1.0000 - val_loss: 0.5343 - val_accuracy: 0.9505\n"
     ]
    }
   ],
   "source": [
    "#with class_weights AND smoothing\n",
    "\n",
    "\n",
    "\n",
    "image_size = (58,58)\n",
    "datagen=ImageDataGenerator(rescale=1./255)\n",
    "train_generator=datagen.flow_from_dataframe(dataframe=top6_train,\n",
    "                                            directory=\"/tf/beetlevision/images\",\n",
    "                                            x_col=\"Filename:\", y_col=\"Family:\",\n",
    "                                            class_mode=\"categorical\",\n",
    "                                            target_size=image_size,\n",
    "                                            batch_size=24)\n",
    "validation_generator=datagen.flow_from_dataframe(dataframe=top6_valid,\n",
    "                                            directory=\"/tf/beetlevision/images\",\n",
    "                                            x_col=\"Filename:\", y_col=\"Family:\",\n",
    "                                            class_mode=\"categorical\",\n",
    "                                            target_size=image_size,\n",
    "                                            batch_size=24)\n",
    "\n",
    "\n",
    "model = make_model(input_shape=image_size + (3,), num_classes=6)\n",
    "epochs = 25\n",
    "\n",
    "callbacks = [\n",
    "    keras.callbacks.ModelCheckpoint(\"save_at_{epoch}.h5\"),\n",
    "]\n",
    "loss = keras.losses.CategoricalCrossentropy(label_smoothing=.1)\n",
    "model.compile(\n",
    "    optimizer=keras.optimizers.Adam(1e-3),\n",
    "    loss=loss,\n",
    "    metrics=[\"accuracy\"],\n",
    ")\n",
    "\n",
    "history_plus_both = model.fit(\n",
    "    train_generator,validation_data=validation_generator,epochs=epochs, class_weight=class_weight_dict\n",
    "        #train_generator,validation_data=validation_generator,epochs=epochs, callbacks=callbacks\n",
    ")"
   ]
  },
  {
   "cell_type": "code",
   "execution_count": 91,
   "metadata": {},
   "outputs": [
    {
     "data": {
      "text/plain": [
       "<matplotlib.axes._subplots.AxesSubplot at 0x7f338074d5c0>"
      ]
     },
     "execution_count": 91,
     "metadata": {},
     "output_type": "execute_result"
    },
    {
     "data": {
      "image/png": "[encoded data removed]",
      "text/plain": [
       "<Figure size 432x288 with 1 Axes>"
      ]
     },
     "metadata": {
      "needs_background": "light"
     },
     "output_type": "display_data"
    }
   ],
   "source": [
    "pd.DataFrame(history_basic.history)['val_accuracy'].plot() # blue - basic\n",
    "\n",
    "pd.DataFrame(history_plus_weights.history)['val_accuracy'].plot() # orange +class_weights\n",
    "\n",
    "pd.DataFrame(history_plus_smooth.history)['val_accuracy'].plot() # green - +label_smoothing\n",
    "\n",
    "pd.DataFrame(history_plus_both.history)['val_accuracy'].plot() # red - BOTH"
   ]
  },
  {
   "cell_type": "code",
   "execution_count": 92,
   "metadata": {},
   "outputs": [
    {
     "ename": "TypeError",
     "evalue": "expected str, bytes or os.PathLike object, not History",
     "output_type": "error",
     "traceback": [
      "\u001b[0;31m---------------------------------------------------------------------------\u001b[0m",
      "\u001b[0;31mTypeError\u001b[0m                                 Traceback (most recent call last)",
      "\u001b[0;32m<ipython-input-92-e70911f5e036>\u001b[0m in \u001b[0;36m<module>\u001b[0;34m\u001b[0m\n\u001b[0;32m----> 1\u001b[0;31m \u001b[0mmodel\u001b[0m\u001b[0;34m.\u001b[0m\u001b[0msave\u001b[0m\u001b[0;34m(\u001b[0m\u001b[0mhistory_plus_both\u001b[0m\u001b[0;34m)\u001b[0m\u001b[0;34m\u001b[0m\u001b[0;34m\u001b[0m\u001b[0m\n\u001b[0m",
      "\u001b[0;32m/usr/local/lib/python3.6/dist-packages/tensorflow/python/keras/engine/training.py\u001b[0m in \u001b[0;36msave\u001b[0;34m(self, filepath, overwrite, include_optimizer, save_format, signatures, options)\u001b[0m\n\u001b[1;32m   1939\u001b[0m     \"\"\"\n\u001b[1;32m   1940\u001b[0m     save.save_model(self, filepath, overwrite, include_optimizer, save_format,\n\u001b[0;32m-> 1941\u001b[0;31m                     signatures, options)\n\u001b[0m\u001b[1;32m   1942\u001b[0m \u001b[0;34m\u001b[0m\u001b[0m\n\u001b[1;32m   1943\u001b[0m   \u001b[0;32mdef\u001b[0m \u001b[0msave_weights\u001b[0m\u001b[0;34m(\u001b[0m\u001b[0mself\u001b[0m\u001b[0;34m,\u001b[0m \u001b[0mfilepath\u001b[0m\u001b[0;34m,\u001b[0m \u001b[0moverwrite\u001b[0m\u001b[0;34m=\u001b[0m\u001b[0;32mTrue\u001b[0m\u001b[0;34m,\u001b[0m \u001b[0msave_format\u001b[0m\u001b[0;34m=\u001b[0m\u001b[0;32mNone\u001b[0m\u001b[0;34m)\u001b[0m\u001b[0;34m:\u001b[0m\u001b[0;34m\u001b[0m\u001b[0;34m\u001b[0m\u001b[0m\n",
      "\u001b[0;32m/usr/local/lib/python3.6/dist-packages/tensorflow/python/keras/saving/save.py\u001b[0m in \u001b[0;36msave_model\u001b[0;34m(model, filepath, overwrite, include_optimizer, save_format, signatures, options)\u001b[0m\n\u001b[1;32m    117\u001b[0m   if (save_format == 'h5' or\n\u001b[1;32m    118\u001b[0m       \u001b[0;34m(\u001b[0m\u001b[0mh5py\u001b[0m \u001b[0;32mis\u001b[0m \u001b[0;32mnot\u001b[0m \u001b[0;32mNone\u001b[0m \u001b[0;32mand\u001b[0m \u001b[0misinstance\u001b[0m\u001b[0;34m(\u001b[0m\u001b[0mfilepath\u001b[0m\u001b[0;34m,\u001b[0m \u001b[0mh5py\u001b[0m\u001b[0;34m.\u001b[0m\u001b[0mFile\u001b[0m\u001b[0;34m)\u001b[0m\u001b[0;34m)\u001b[0m \u001b[0;32mor\u001b[0m\u001b[0;34m\u001b[0m\u001b[0;34m\u001b[0m\u001b[0m\n\u001b[0;32m--> 119\u001b[0;31m       os.path.splitext(filepath)[1] in _HDF5_EXTENSIONS):\n\u001b[0m\u001b[1;32m    120\u001b[0m     \u001b[0;31m# TODO(b/130258301): add utility method for detecting model type.\u001b[0m\u001b[0;34m\u001b[0m\u001b[0;34m\u001b[0m\u001b[0;34m\u001b[0m\u001b[0m\n\u001b[1;32m    121\u001b[0m     if (not model._is_graph_network and  # pylint:disable=protected-access\n",
      "\u001b[0;32m/usr/lib/python3.6/posixpath.py\u001b[0m in \u001b[0;36msplitext\u001b[0;34m(p)\u001b[0m\n\u001b[1;32m    120\u001b[0m \u001b[0;34m\u001b[0m\u001b[0m\n\u001b[1;32m    121\u001b[0m \u001b[0;32mdef\u001b[0m \u001b[0msplitext\u001b[0m\u001b[0;34m(\u001b[0m\u001b[0mp\u001b[0m\u001b[0;34m)\u001b[0m\u001b[0;34m:\u001b[0m\u001b[0;34m\u001b[0m\u001b[0;34m\u001b[0m\u001b[0m\n\u001b[0;32m--> 122\u001b[0;31m     \u001b[0mp\u001b[0m \u001b[0;34m=\u001b[0m \u001b[0mos\u001b[0m\u001b[0;34m.\u001b[0m\u001b[0mfspath\u001b[0m\u001b[0;34m(\u001b[0m\u001b[0mp\u001b[0m\u001b[0;34m)\u001b[0m\u001b[0;34m\u001b[0m\u001b[0;34m\u001b[0m\u001b[0m\n\u001b[0m\u001b[1;32m    123\u001b[0m     \u001b[0;32mif\u001b[0m \u001b[0misinstance\u001b[0m\u001b[0;34m(\u001b[0m\u001b[0mp\u001b[0m\u001b[0;34m,\u001b[0m \u001b[0mbytes\u001b[0m\u001b[0;34m)\u001b[0m\u001b[0;34m:\u001b[0m\u001b[0;34m\u001b[0m\u001b[0;34m\u001b[0m\u001b[0m\n\u001b[1;32m    124\u001b[0m         \u001b[0msep\u001b[0m \u001b[0;34m=\u001b[0m \u001b[0;34mb'/'\u001b[0m\u001b[0;34m\u001b[0m\u001b[0;34m\u001b[0m\u001b[0m\n",
      "\u001b[0;31mTypeError\u001b[0m: expected str, bytes or os.PathLike object, not History"
     ]
    }
   ],
   "source": [
    "model.save(history_plus_both)"
   ]
  },
  {
   "cell_type": "code",
   "execution_count": null,
   "metadata": {},
   "outputs": [],
   "source": []
  }
 ],
 "metadata": {
  "kernelspec": {
   "display_name": "Python 3",
   "language": "python",
   "name": "python3"
  },
  "language_info": {
   "codemirror_mode": {
    "name": "ipython",
    "version": 3
   },
   "file_extension": ".py",
   "mimetype": "text/x-python",
   "name": "python",
   "nbconvert_exporter": "python",
   "pygments_lexer": "ipython3",
   "version": "3.6.9"
  }
 },
 "nbformat": 4,
 "nbformat_minor": 4
}
