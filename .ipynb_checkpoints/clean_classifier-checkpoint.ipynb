{
 "cells": [
  {
   "cell_type": "code",
   "execution_count": null,
   "metadata": {},
   "outputs": [],
   "source": []
  },
  {
   "cell_type": "code",
   "execution_count": 1,
   "metadata": {},
   "outputs": [],
   "source": [
    "import tensorflow as tf\n",
    "from tensorflow import keras\n",
    "from tensorflow.keras import layers\n",
    "import pathlib\n",
    "import pandas as pd\n",
    "import numpy as np\n",
    "from keras_preprocessing.image import ImageDataGenerator\n"
   ]
  },
  {
   "cell_type": "code",
   "execution_count": 2,
   "metadata": {},
   "outputs": [],
   "source": [
    "#NOTE - I am working in an nvidia-docker image with official tensorflow docker.\n",
    "# I had to add this line AND 'trust' the notebook on top-right. Otherwise an ugly\n",
    "# cudNN error is present.\n",
    "\n",
    "gpus = tf.config.experimental.list_physical_devices('GPU')\n",
    "if gpus:\n",
    "    for gpu in gpus:\n",
    "        tf.config.experimental.set_memory_growth(gpu, True)"
   ]
  },
  {
   "cell_type": "code",
   "execution_count": 3,
   "metadata": {},
   "outputs": [],
   "source": [
    "def make_generators(image_size,\n",
    "                    top6_train,\n",
    "                    top6_valid,\n",
    "                    y_target):\n",
    "    \n",
    "    datagen=ImageDataGenerator(rescale=1./255)\n",
    "    train_generator=datagen.flow_from_dataframe(dataframe=top6_train,\n",
    "                                            directory=\"/tf/beetleData/images\",\n",
    "                                            x_col=\"Filename:\", y_col=y_target,\n",
    "                                            class_mode=\"categorical\",\n",
    "                                            target_size=image_size,\n",
    "                                            batch_size=12)\n",
    "    validation_generator=datagen.flow_from_dataframe(dataframe=top6_valid,\n",
    "                                            directory=\"/tf/beetleData/images\",\n",
    "                                            x_col=\"Filename:\", y_col= y_target,\n",
    "                                            class_mode=\"categorical\",\n",
    "                                            target_size=image_size,\n",
    "                                            batch_size=12)\n",
    "    \n",
    "    return train_generator, validation_generator"
   ]
  },
  {
   "cell_type": "code",
   "execution_count": 4,
   "metadata": {},
   "outputs": [],
   "source": [
    "def make_model(input_shape, num_classes):\n",
    "    inputs = keras.Input(shape=input_shape)\n",
    "    # Image augmentation block\n",
    "    #x = data_augmentation(inputs)\n",
    "\n",
    "    # Entry block\n",
    "    #x = layers.experimental.preprocessing.Rescaling(1.0 / 255)(inpu)\n",
    "        # This is done already because we used an ImageDataGenerator\n",
    "    x = layers.Conv2D(32, 3, strides=2, padding=\"same\")(inputs)\n",
    "    x = layers.BatchNormalization()(x)\n",
    "    x = layers.Activation(\"relu\")(x)\n",
    "\n",
    "    x = layers.Conv2D(64, 3, padding=\"same\")(x)\n",
    "    x = layers.BatchNormalization()(x)\n",
    "    x = layers.Activation(\"relu\")(x)\n",
    "\n",
    "    previous_block_activation = x  # Set aside residual\n",
    "\n",
    "    for size in [128, 256, 512, 728]:\n",
    "        x = layers.Activation(\"relu\")(x)\n",
    "        x = layers.SeparableConv2D(size, 3, padding=\"same\")(x)\n",
    "        x = layers.BatchNormalization()(x)\n",
    "\n",
    "        x = layers.Activation(\"relu\")(x)\n",
    "        x = layers.SeparableConv2D(size, 3, padding=\"same\")(x)\n",
    "        x = layers.BatchNormalization()(x)\n",
    "\n",
    "        x = layers.MaxPooling2D(3, strides=2, padding=\"same\")(x)\n",
    "\n",
    "        # Project residual\n",
    "        residual = layers.Conv2D(size, 1, strides=2, padding=\"same\")(\n",
    "            previous_block_activation\n",
    "        )\n",
    "        x = layers.add([x, residual])  # Add back residual\n",
    "        previous_block_activation = x  # Set aside next residual\n",
    "\n",
    "    x = layers.SeparableConv2D(1024, 3, padding=\"same\")(x)\n",
    "    x = layers.BatchNormalization()(x)\n",
    "    x = layers.Activation(\"relu\")(x)\n",
    "\n",
    "    x = layers.GlobalAveragePooling2D()(x)\n",
    "    if num_classes == 2:\n",
    "        activation = \"sigmoid\"\n",
    "        units = 1\n",
    "    else:\n",
    "        activation = \"softmax\"\n",
    "        units = num_classes\n",
    "\n",
    "    x = layers.Dropout(0.5)(x)\n",
    "    outputs = layers.Dense(units, activation=activation)(x)\n",
    "    return keras.Model(inputs, outputs)"
   ]
  },
  {
   "cell_type": "code",
   "execution_count": 5,
   "metadata": {},
   "outputs": [],
   "source": [
    "def train_class(model,\n",
    "                epochs=10,\n",
    "               label_smooth=False,\n",
    "               class_weights=True):\n",
    "    from sklearn.utils import class_weight\n",
    "\n",
    "    callbacks = [\n",
    "        keras.callbacks.ModelCheckpoint(\"save_at_{epoch}.h5\"),\n",
    "    ]\n",
    "    \n",
    "    if label_smooth:\n",
    "        loss = keras.losses.CategoricalCrossentropy(label_smoothing=label_smooth)\n",
    "    else:\n",
    "        loss = ' categorical_crossentropy'\n",
    "    \n",
    "    #LABEL_SMOOTHING BLOCK\n",
    "    model.compile(\n",
    "        optimizer=keras.optimizers.Adam(1e-3),\n",
    "        loss=loss,\n",
    "        metrics=[\"accuracy\"],\n",
    ")\n",
    "    \n",
    "    y_train = train_generator.classes\n",
    "    \n",
    "    \n",
    "    #CLASS_WEIGHTS BLOCK\n",
    "    if class_weights:\n",
    "        c_weights = class_weight.compute_class_weight('balanced',\n",
    "                                                     np.unique(y_train),\n",
    "                                                     np.array(y_train))\n",
    "        class_weight_dict = dict(enumerate(c_weights))\n",
    "        \n",
    "        \n",
    "        \n",
    "    #Fit the model - based on conditions\n",
    "        history58x58 = model.fit(\n",
    "            train_generator,validation_data=validation_generator,epochs=epochs\n",
    "            #    train_generator,validation_data=validation_generator,epochs=epochs, callbacks=callbacks\n",
    "        )\n",
    "        return history58x58\n",
    "    else:\n",
    "        history58x58 = model.fit(\n",
    "        train_generator,validation_data=validation_generator,epochs=epochs\n",
    "        #    train_generator,validation_data=validation_generator,epochs=epochs, callbacks=callbacks\n",
    "    )\n",
    "        return history58x58"
   ]
  },
  {
   "cell_type": "code",
   "execution_count": 6,
   "metadata": {},
   "outputs": [],
   "source": [
    "def csvSplitter(dataframe, split_ratio):\n",
    "    \"\"\"\n",
    "    To use the data generator in keras with flow_from_dataset, you need a helper function to perform the train/test\n",
    "    split.\n",
    "    \n",
    "    Input: a pandas CSV/Table of all your data.\n",
    "    Output : the same dataframe, split into seperate training/validation dataframes, to be used in rest of pipeline\n",
    "    \"\"\"\n",
    "    dataframe = dataframe.sample(frac=1).reset_index(drop=True) #Shuffles DataFrame - for a lazy way to test/train split\n",
    "    validation_index = round(dataframe.shape[0] * split_ratio) # Gets row # of images in validation set \n",
    "    training_index = dataframe.shape[0] - validation_index # Gets row # of images in training set\n",
    "    train_valid_split = np.concatenate((np.ones(validation_index),np.zeros(training_index))) # creates train-valid column\n",
    "    dataframe['trainValid'] = train_valid_split # adds the splitting ID to the dataframe\n",
    "    train_df = dataframe[dataframe['trainValid'] == 0.0] #subsetting based on previously created test/train split col\n",
    "    valid_df = dataframe[dataframe['trainValid'] == 1.0]\n",
    "    \n",
    "    return train_df, valid_df\n"
   ]
  },
  {
   "cell_type": "code",
   "execution_count": 7,
   "metadata": {},
   "outputs": [],
   "source": [
    "def get_beetle_labels(y_target = 'Family:',\n",
    "                      data_dir = '/tf/beetleData/images/',\n",
    "                      label_file = '/tf/beetleData/labels/master_rbi.csv',\n",
    "                      top_classes = 6):\n",
    "    \"\"\"\n",
    "    Read label file\n",
    "    Get images from Dorsal View\n",
    "    Take those images and use csvsplitter\n",
    "    Return train and test dataframes\n",
    "    \"\"\"\n",
    "    labels = pd.read_csv(label_file)\n",
    "    assert y_target in labels.columns, \"y_target should be a column in the label_file!\"\n",
    "    \n",
    "    data_dir = pathlib.Path('/tf/beetleData/images/')\n",
    "    dorsal_data = labels[labels[\"View:\"] == \"Dorsal\"] #filter images that are from dorsal view\n",
    "    dorsal_data[y_target].value_counts().sort_values().plot(kind = 'barh') # preview the distribution\n",
    "    \n",
    "    top6 = dorsal_data[y_target].value_counts(normalize=True)[:top_classes]\n",
    "    print(top6)\n",
    "    print('c1' + str(top6.shape))\n",
    "    top6 = top6.index.values # get top 6 most common classes.\n",
    "    top6_df = dorsal_data[dorsal_data[y_target].isin(top6)] #filter images from only top 6 classes\n",
    "    top6_train, top6_valid = csvSplitter(top6_df, .2)\n",
    "    #print(top6_train[y_target])\n",
    "    #print(top6_valid[y_target])\n",
    "    #failsafe -> make sure that no unique labels are exclusive to training or validation set\n",
    "    overlap_labels = (list(set(top6_train[y_target]) & set(top6_valid[y_target])))\n",
    "    top6_train = top6_train.loc[top6_train[y_target].isin(overlap_labels)]\n",
    "    print(top6_valid.shape)\n",
    "    top6_valid = top6_valid.loc[top6_valid[y_target].isin(overlap_labels)]\n",
    "    print(top6_valid.shape)\n",
    "    \n",
    "    #Add a failsafe - > make sure no unique target labels are exclusively in training or validation\n",
    "    print('loaded in training size of ' + str(top6_train.shape))\n",
    "    \n",
    "    return top6_train, top6_valid"
   ]
  },
  {
   "cell_type": "code",
   "execution_count": 8,
   "metadata": {},
   "outputs": [],
   "source": [
    "def train_all(epochs=10,\n",
    "              y_target ='Family:',\n",
    "              image_size = (100,100),\n",
    "              top_classes=5,\n",
    "             label_smooth=False):\n",
    "    \n",
    "    #y_target='Genus:'\n",
    "    #top_classes = 25 # attempts to get 100 classes. but may be less if the labels are exclusive to test/valid\n",
    "    #epochs = 10\n",
    "    tr, va = get_beetle_labels(y_target=y_target,\n",
    "                              top_classes=top_classes) # top classes has to be oddly high (for any label\n",
    "                                                # other than the family label, unsure why\n",
    "\n",
    "    #np.sort(va['Species:'].unique()) == np.sort(tr['Species:'].unique())\n",
    "    train_generator,  validation_generator  = make_generators(image_size, tr, va,y_target)\n",
    "    num_classes = len(np.unique(train_generator.classes))\n",
    "    model = make_model(input_shape=image_size + (3,), num_classes=num_classes)\n",
    "    history = train_class(model, epochs=epochs,label_smooth=label_smooth)\n",
    "              \n"
   ]
  },
  {
   "cell_type": "code",
   "execution_count": 9,
   "metadata": {},
   "outputs": [
    {
     "name": "stdout",
     "output_type": "stream",
     "text": [
      "Scarabaeidae    0.492287\n",
      "Cerambycidae    0.241449\n",
      "Lucanidae       0.100604\n",
      "Buprestidae     0.069081\n",
      "Carabidae       0.048625\n",
      "Name: Family:, dtype: float64\n",
      "c1(5,)\n",
      "(568, 9)\n",
      "(568, 9)\n",
      "loaded in training size of (2271, 9)\n",
      "Found 2271 validated image filenames belonging to 5 classes.\n",
      "Found 568 validated image filenames belonging to 5 classes.\n"
     ]
    },
    {
     "ename": "NameError",
     "evalue": "name 'train_generator' is not defined",
     "output_type": "error",
     "traceback": [
      "\u001b[0;31m---------------------------------------------------------------------------\u001b[0m",
      "\u001b[0;31mNameError\u001b[0m                                 Traceback (most recent call last)",
      "\u001b[0;32m<ipython-input-9-140048236f7d>\u001b[0m in \u001b[0;36m<module>\u001b[0;34m\u001b[0m\n\u001b[0;32m----> 1\u001b[0;31m \u001b[0mtrain_all\u001b[0m\u001b[0;34m(\u001b[0m\u001b[0mepochs\u001b[0m\u001b[0;34m=\u001b[0m\u001b[0;36m5\u001b[0m\u001b[0;34m)\u001b[0m\u001b[0;34m\u001b[0m\u001b[0;34m\u001b[0m\u001b[0m\n\u001b[0m",
      "\u001b[0;32m<ipython-input-8-dff6f2b87e30>\u001b[0m in \u001b[0;36mtrain_all\u001b[0;34m(epochs, y_target, image_size, top_classes, label_smooth)\u001b[0m\n\u001b[1;32m     16\u001b[0m     \u001b[0mnum_classes\u001b[0m \u001b[0;34m=\u001b[0m \u001b[0mlen\u001b[0m\u001b[0;34m(\u001b[0m\u001b[0mnp\u001b[0m\u001b[0;34m.\u001b[0m\u001b[0munique\u001b[0m\u001b[0;34m(\u001b[0m\u001b[0mtrain_generator\u001b[0m\u001b[0;34m.\u001b[0m\u001b[0mclasses\u001b[0m\u001b[0;34m)\u001b[0m\u001b[0;34m)\u001b[0m\u001b[0;34m\u001b[0m\u001b[0;34m\u001b[0m\u001b[0m\n\u001b[1;32m     17\u001b[0m     \u001b[0mmodel\u001b[0m \u001b[0;34m=\u001b[0m \u001b[0mmake_model\u001b[0m\u001b[0;34m(\u001b[0m\u001b[0minput_shape\u001b[0m\u001b[0;34m=\u001b[0m\u001b[0mimage_size\u001b[0m \u001b[0;34m+\u001b[0m \u001b[0;34m(\u001b[0m\u001b[0;36m3\u001b[0m\u001b[0;34m,\u001b[0m\u001b[0;34m)\u001b[0m\u001b[0;34m,\u001b[0m \u001b[0mnum_classes\u001b[0m\u001b[0;34m=\u001b[0m\u001b[0mnum_classes\u001b[0m\u001b[0;34m)\u001b[0m\u001b[0;34m\u001b[0m\u001b[0;34m\u001b[0m\u001b[0m\n\u001b[0;32m---> 18\u001b[0;31m     \u001b[0mhistory\u001b[0m \u001b[0;34m=\u001b[0m \u001b[0mtrain_class\u001b[0m\u001b[0;34m(\u001b[0m\u001b[0mmodel\u001b[0m\u001b[0;34m,\u001b[0m \u001b[0mepochs\u001b[0m\u001b[0;34m=\u001b[0m\u001b[0mepochs\u001b[0m\u001b[0;34m,\u001b[0m\u001b[0mlabel_smooth\u001b[0m\u001b[0;34m=\u001b[0m\u001b[0mlabel_smooth\u001b[0m\u001b[0;34m)\u001b[0m\u001b[0;34m\u001b[0m\u001b[0;34m\u001b[0m\u001b[0m\n\u001b[0m\u001b[1;32m     19\u001b[0m \u001b[0;34m\u001b[0m\u001b[0m\n",
      "\u001b[0;32m<ipython-input-5-81b57d9054d0>\u001b[0m in \u001b[0;36mtrain_class\u001b[0;34m(model, epochs, label_smooth, class_weights)\u001b[0m\n\u001b[1;32m     21\u001b[0m )\n\u001b[1;32m     22\u001b[0m \u001b[0;34m\u001b[0m\u001b[0m\n\u001b[0;32m---> 23\u001b[0;31m     \u001b[0my_train\u001b[0m \u001b[0;34m=\u001b[0m \u001b[0mtrain_generator\u001b[0m\u001b[0;34m.\u001b[0m\u001b[0mclasses\u001b[0m\u001b[0;34m\u001b[0m\u001b[0;34m\u001b[0m\u001b[0m\n\u001b[0m\u001b[1;32m     24\u001b[0m \u001b[0;34m\u001b[0m\u001b[0m\n\u001b[1;32m     25\u001b[0m \u001b[0;34m\u001b[0m\u001b[0m\n",
      "\u001b[0;31mNameError\u001b[0m: name 'train_generator' is not defined"
     ]
    },
    {
     "data": {
      "image/png": "[encoded data removed]",
      "text/plain": [
       "<Figure size 432x288 with 1 Axes>"
      ]
     },
     "metadata": {
      "needs_background": "light"
     },
     "output_type": "display_data"
    }
   ],
   "source": [
    "train_all(epochs=5)"
   ]
  },
  {
   "cell_type": "code",
   "execution_count": 10,
   "metadata": {},
   "outputs": [],
   "source": [
    "def do_all():\n",
    "\n",
    "    \n",
    "    y_target='Species:'\n",
    "    top_classes = 5 # attempts to get 100 classes. but may be less if the labels are exclusive to test/valid\n",
    "    epochs = 5\n",
    "    label_smooth=0.1\n",
    "    image_size=(58,58)\n",
    "    \n",
    "    tr, va = get_beetle_labels(y_target=y_target,\n",
    "                          top_classes=top_classes) #attempts to make a valid/train split w/ # of top_classes\n",
    "    \n",
    "  \n",
    "\n",
    "    assert sum(np.sort(va[y_target].unique()) == np.sort(tr[y_target].unique())) == len(va[y_target].unique()), \\\n",
    "    'Mismatched Labels?'\n",
    "    \n",
    "    train_generator,  validation_generator  = make_generators(image_size, tr, va,y_target)\n",
    "    num_classes = len(np.unique(train_generator.classes))\n",
    "    model = make_model(input_shape=image_size + (3,), num_classes=num_classes)\n",
    "    history = train_class(model, epochs=epochs,label_smooth=label_smooth)\n"
   ]
  },
  {
   "cell_type": "code",
   "execution_count": 11,
   "metadata": {},
   "outputs": [
    {
     "name": "stdout",
     "output_type": "stream",
     "text": [
      "bicornis      0.007042\n",
      "variabilis    0.006036\n",
      "parryi        0.005366\n",
      "aurata        0.005030\n",
      "sumptuosa     0.004359\n",
      "Name: Species:, dtype: float64\n",
      "c1(5,)\n",
      "(17, 9)\n",
      "(17, 9)\n",
      "loaded in training size of (53, 9)\n",
      "Found 53 validated image filenames belonging to 4 classes.\n",
      "Found 17 validated image filenames belonging to 4 classes.\n"
     ]
    },
    {
     "ename": "NameError",
     "evalue": "name 'train_generator' is not defined",
     "output_type": "error",
     "traceback": [
      "\u001b[0;31m---------------------------------------------------------------------------\u001b[0m",
      "\u001b[0;31mNameError\u001b[0m                                 Traceback (most recent call last)",
      "\u001b[0;32m<ipython-input-11-a66b8131a895>\u001b[0m in \u001b[0;36m<module>\u001b[0;34m\u001b[0m\n\u001b[0;32m----> 1\u001b[0;31m \u001b[0mdo_all\u001b[0m\u001b[0;34m(\u001b[0m\u001b[0;34m)\u001b[0m\u001b[0;34m\u001b[0m\u001b[0;34m\u001b[0m\u001b[0m\n\u001b[0m",
      "\u001b[0;32m<ipython-input-10-f92e213c91c0>\u001b[0m in \u001b[0;36mdo_all\u001b[0;34m()\u001b[0m\n\u001b[1;32m     19\u001b[0m     \u001b[0mnum_classes\u001b[0m \u001b[0;34m=\u001b[0m \u001b[0mlen\u001b[0m\u001b[0;34m(\u001b[0m\u001b[0mnp\u001b[0m\u001b[0;34m.\u001b[0m\u001b[0munique\u001b[0m\u001b[0;34m(\u001b[0m\u001b[0mtrain_generator\u001b[0m\u001b[0;34m.\u001b[0m\u001b[0mclasses\u001b[0m\u001b[0;34m)\u001b[0m\u001b[0;34m)\u001b[0m\u001b[0;34m\u001b[0m\u001b[0;34m\u001b[0m\u001b[0m\n\u001b[1;32m     20\u001b[0m     \u001b[0mmodel\u001b[0m \u001b[0;34m=\u001b[0m \u001b[0mmake_model\u001b[0m\u001b[0;34m(\u001b[0m\u001b[0minput_shape\u001b[0m\u001b[0;34m=\u001b[0m\u001b[0mimage_size\u001b[0m \u001b[0;34m+\u001b[0m \u001b[0;34m(\u001b[0m\u001b[0;36m3\u001b[0m\u001b[0;34m,\u001b[0m\u001b[0;34m)\u001b[0m\u001b[0;34m,\u001b[0m \u001b[0mnum_classes\u001b[0m\u001b[0;34m=\u001b[0m\u001b[0mnum_classes\u001b[0m\u001b[0;34m)\u001b[0m\u001b[0;34m\u001b[0m\u001b[0;34m\u001b[0m\u001b[0m\n\u001b[0;32m---> 21\u001b[0;31m     \u001b[0mhistory\u001b[0m \u001b[0;34m=\u001b[0m \u001b[0mtrain_class\u001b[0m\u001b[0;34m(\u001b[0m\u001b[0mmodel\u001b[0m\u001b[0;34m,\u001b[0m \u001b[0mepochs\u001b[0m\u001b[0;34m=\u001b[0m\u001b[0mepochs\u001b[0m\u001b[0;34m,\u001b[0m\u001b[0mlabel_smooth\u001b[0m\u001b[0;34m=\u001b[0m\u001b[0mlabel_smooth\u001b[0m\u001b[0;34m)\u001b[0m\u001b[0;34m\u001b[0m\u001b[0;34m\u001b[0m\u001b[0m\n\u001b[0m",
      "\u001b[0;32m<ipython-input-5-81b57d9054d0>\u001b[0m in \u001b[0;36mtrain_class\u001b[0;34m(model, epochs, label_smooth, class_weights)\u001b[0m\n\u001b[1;32m     21\u001b[0m )\n\u001b[1;32m     22\u001b[0m \u001b[0;34m\u001b[0m\u001b[0m\n\u001b[0;32m---> 23\u001b[0;31m     \u001b[0my_train\u001b[0m \u001b[0;34m=\u001b[0m \u001b[0mtrain_generator\u001b[0m\u001b[0;34m.\u001b[0m\u001b[0mclasses\u001b[0m\u001b[0;34m\u001b[0m\u001b[0;34m\u001b[0m\u001b[0m\n\u001b[0m\u001b[1;32m     24\u001b[0m \u001b[0;34m\u001b[0m\u001b[0m\n\u001b[1;32m     25\u001b[0m \u001b[0;34m\u001b[0m\u001b[0m\n",
      "\u001b[0;31mNameError\u001b[0m: name 'train_generator' is not defined"
     ]
    },
    {
     "data": {
      "image/png": "[encoded data removed]",
      "text/plain": [
       "<Figure size 432x288 with 1 Axes>"
      ]
     },
     "metadata": {
      "needs_background": "light"
     },
     "output_type": "display_data"
    }
   ],
   "source": [
    "do_all()"
   ]
  },
  {
   "cell_type": "code",
   "execution_count": 12,
   "metadata": {},
   "outputs": [
    {
     "name": "stdout",
     "output_type": "stream",
     "text": [
      "Scarabaeidae    0.492287\n",
      "Cerambycidae    0.241449\n",
      "Lucanidae       0.100604\n",
      "Buprestidae     0.069081\n",
      "Carabidae       0.048625\n",
      "Name: Family:, dtype: float64\n",
      "c1(5,)\n",
      "(568, 9)\n",
      "(568, 9)\n",
      "loaded in training size of (2271, 9)\n",
      "Found 2271 validated image filenames belonging to 5 classes.\n",
      "Found 568 validated image filenames belonging to 5 classes.\n"
     ]
    },
    {
     "name": "stderr",
     "output_type": "stream",
     "text": [
      "/usr/local/lib/python3.6/dist-packages/sklearn/utils/validation.py:71: FutureWarning: Pass classes=[0 1 2 3 4], y=[2 4 0 ... 2 4 4] as keyword args. From version 0.25 passing these as positional arguments will result in an error\n",
      "  FutureWarning)\n"
     ]
    },
    {
     "name": "stdout",
     "output_type": "stream",
     "text": [
      "Epoch 1/5\n",
      "190/190 [==============================] - 12s 66ms/step - loss: 0.7192 - accuracy: 0.8058 - val_loss: 1.6772 - val_accuracy: 0.4613\n",
      "Epoch 2/5\n",
      "190/190 [==============================] - 12s 61ms/step - loss: 0.4818 - accuracy: 0.9066 - val_loss: 2.9738 - val_accuracy: 0.0634\n",
      "Epoch 3/5\n",
      "190/190 [==============================] - 12s 63ms/step - loss: 0.3740 - accuracy: 0.9582 - val_loss: 0.6193 - val_accuracy: 0.8539\n",
      "Epoch 4/5\n",
      "190/190 [==============================] - 12s 62ms/step - loss: 0.3512 - accuracy: 0.9648 - val_loss: 0.5980 - val_accuracy: 0.8750\n",
      "Epoch 5/5\n",
      "190/190 [==============================] - 12s 61ms/step - loss: 0.3176 - accuracy: 0.9775 - val_loss: 0.5342 - val_accuracy: 0.8908\n"
     ]
    },
    {
     "data": {
      "image/png": "[encoded data removed]",
      "text/plain": [
       "<Figure size 432x288 with 1 Axes>"
      ]
     },
     "metadata": {
      "needs_background": "light"
     },
     "output_type": "display_data"
    }
   ],
   "source": [
    "y_target='Family:'\n",
    "top_classes = 5 # attempts to get 100 classes. but may be less if the labels are exclusive to test/valid\n",
    "epochs = 5\n",
    "label_smooth=0.05\n",
    "image_size=(58,58)\n",
    "\n",
    "tr, va = get_beetle_labels(y_target=y_target,\n",
    "                      top_classes=top_classes) # top classes has to be oddly high (for any label\n",
    "                                        # other than the family label, unsure why\n",
    "\n",
    "assert sum(np.sort(va[y_target].unique()) == np.sort(tr[y_target].unique())) == len(va[y_target].unique()), \\\n",
    "    'Mismatched Labels?'\n",
    "train_generator,  validation_generator  = make_generators(image_size, tr, va,y_target)\n",
    "num_classes = len(np.unique(train_generator.classes))\n",
    "model = make_model(input_shape=image_size + (3,), num_classes=num_classes)\n",
    "history = train_class(model, epochs=epochs,label_smooth=label_smooth)"
   ]
  },
  {
   "cell_type": "code",
   "execution_count": 15,
   "metadata": {},
   "outputs": [
    {
     "data": {
      "text/plain": [
       "<matplotlib.axes._subplots.AxesSubplot at 0x7f2d6f7cee10>"
      ]
     },
     "execution_count": 15,
     "metadata": {},
     "output_type": "execute_result"
    },
    {
     "data": {
      "image/png": "[encoded data removed]",
      "text/plain": [
       "<Figure size 432x288 with 1 Axes>"
      ]
     },
     "metadata": {
      "needs_background": "light"
     },
     "output_type": "display_data"
    }
   ],
   "source": [
    "pd.DataFrame(history.history)['val_accuracy'].plot()"
   ]
  },
  {
   "cell_type": "code",
   "execution_count": null,
   "metadata": {},
   "outputs": [],
   "source": []
  }
 ],
 "metadata": {
  "kernelspec": {
   "display_name": "Python 3",
   "language": "python",
   "name": "python3"
  },
  "language_info": {
   "codemirror_mode": {
    "name": "ipython",
    "version": 3
   },
   "file_extension": ".py",
   "mimetype": "text/x-python",
   "name": "python",
   "nbconvert_exporter": "python",
   "pygments_lexer": "ipython3",
   "version": "3.6.9"
  }
 },
 "nbformat": 4,
 "nbformat_minor": 2
}
