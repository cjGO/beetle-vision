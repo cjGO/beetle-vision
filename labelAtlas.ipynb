{
 "cells": [
  {
   "cell_type": "code",
   "execution_count": 1,
   "metadata": {},
   "outputs": [
    {
     "data": {
      "text/plain": [
       "'\\nWe will attempt to collect labels for the images from coleoptera atlas web scraping\\n'"
      ]
     },
     "execution_count": 1,
     "metadata": {},
     "output_type": "execute_result"
    }
   ],
   "source": [
    "\"\"\"\n",
    "We will attempt to collect labels for the images from coleoptera atlas web scraping\n",
    "\"\"\""
   ]
  },
  {
   "cell_type": "code",
   "execution_count": 2,
   "metadata": {},
   "outputs": [],
   "source": [
    "# The images containing beetles from the Dorsal view are stored in a seperate folder\n",
    "\n",
    "clean_images = '/home/jovyan/work/beetleData/beetleClean/clean/'"
   ]
  },
  {
   "cell_type": "code",
   "execution_count": 3,
   "metadata": {},
   "outputs": [],
   "source": [
    "import pandas as pd"
   ]
  },
  {
   "cell_type": "code",
   "execution_count": 4,
   "metadata": {},
   "outputs": [
    {
     "name": "stdout",
     "output_type": "stream",
     "text": [
      "Requirement already satisfied: xlrd in /usr/local/lib/python3.6/dist-packages (1.2.0)\n"
     ]
    }
   ],
   "source": [
    "#dependency for pandas excel\n",
    "!pip install xlrd"
   ]
  },
  {
   "cell_type": "code",
   "execution_count": 5,
   "metadata": {},
   "outputs": [
    {
     "data": {
      "text/html": [
       "<div>\n",
       "<style scoped>\n",
       "    .dataframe tbody tr th:only-of-type {\n",
       "        vertical-align: middle;\n",
       "    }\n",
       "\n",
       "    .dataframe tbody tr th {\n",
       "        vertical-align: top;\n",
       "    }\n",
       "\n",
       "    .dataframe thead th {\n",
       "        text-align: right;\n",
       "    }\n",
       "</style>\n",
       "<table border=\"1\" class=\"dataframe\">\n",
       "  <thead>\n",
       "    <tr style=\"text-align: right;\">\n",
       "      <th></th>\n",
       "      <th>Unnamed: 0</th>\n",
       "      <th>Unique_ID</th>\n",
       "      <th>Species_Name</th>\n",
       "      <th>Collection</th>\n",
       "      <th>Location</th>\n",
       "      <th>Max_Size</th>\n",
       "      <th>Min_Size</th>\n",
       "      <th>Hierarchy</th>\n",
       "      <th>Images</th>\n",
       "    </tr>\n",
       "  </thead>\n",
       "  <tbody>\n",
       "    <tr>\n",
       "      <th>0</th>\n",
       "      <td>0</td>\n",
       "      <td>1</td>\n",
       "      <td>01 Dynastes hercules: profile view</td>\n",
       "      <td>Capt. Philippe Bourdon</td>\n",
       "      <td>NaN</td>\n",
       "      <td>NaN</td>\n",
       "      <td>NaN</td>\n",
       "      <td>[' DYNASTIDAE (Scarabaeoidea) &gt; Dynastinae &gt; D...</td>\n",
       "      <td>['http://www.coleoptera-atlas.com/IMG/jpg/all_...</td>\n",
       "    </tr>\n",
       "    <tr>\n",
       "      <th>1</th>\n",
       "      <td>1</td>\n",
       "      <td>2</td>\n",
       "      <td>01 Neolucanus from China</td>\n",
       "      <td>NaN</td>\n",
       "      <td>NaN</td>\n",
       "      <td>NaN</td>\n",
       "      <td>NaN</td>\n",
       "      <td>[' LUCANIDAE (Scarabaeoidea) &gt; Chalcodinae &gt; O...</td>\n",
       "      <td>['http://www.coleoptera-atlas.com/IMG/jpg/neol...</td>\n",
       "    </tr>\n",
       "    <tr>\n",
       "      <th>2</th>\n",
       "      <td>2</td>\n",
       "      <td>3</td>\n",
       "      <td>01 Rosenbergia by Henrik WALLIN &amp; Ulf NYLANDER</td>\n",
       "      <td>NaN</td>\n",
       "      <td>NaN</td>\n",
       "      <td>NaN</td>\n",
       "      <td>NaN</td>\n",
       "      <td>[' CERAMBYCIDAE (Chrysomeloidea) &gt; Lamiinae &gt; ...</td>\n",
       "      <td>['http://www.coleoptera-atlas.com/IMG/jpg/rose...</td>\n",
       "    </tr>\n",
       "    <tr>\n",
       "      <th>3</th>\n",
       "      <td>3</td>\n",
       "      <td>4</td>\n",
       "      <td>Aaata finchi</td>\n",
       "      <td>Maurizio Gigli</td>\n",
       "      <td>NaN</td>\n",
       "      <td>NaN</td>\n",
       "      <td>NaN</td>\n",
       "      <td>[' BUPRESTIDAE (Buprestoidea) &gt; Julodinae &gt; Aa...</td>\n",
       "      <td>['http://www.coleoptera-atlas.com/IMG/jpg/aaat...</td>\n",
       "    </tr>\n",
       "    <tr>\n",
       "      <th>4</th>\n",
       "      <td>4</td>\n",
       "      <td>5</td>\n",
       "      <td>Abatocera irregularis</td>\n",
       "      <td>NaN</td>\n",
       "      <td>NaN</td>\n",
       "      <td>60mm</td>\n",
       "      <td>NaN</td>\n",
       "      <td>[' CERAMBYCIDAE (Chrysomeloidea) &gt; Lamiinae &gt; ...</td>\n",
       "      <td>['http://www.coleoptera-atlas.com/IMG/jpg/abat...</td>\n",
       "    </tr>\n",
       "  </tbody>\n",
       "</table>\n",
       "</div>"
      ],
      "text/plain": [
       "   Unnamed: 0  Unique_ID                                    Species_Name  \\\n",
       "0           0          1             01 Dynastes hercules: profile view    \n",
       "1           1          2                        01 Neolucanus from China   \n",
       "2           2          3  01 Rosenbergia by Henrik WALLIN & Ulf NYLANDER   \n",
       "3           3          4                                    Aaata finchi   \n",
       "4           4          5                           Abatocera irregularis   \n",
       "\n",
       "                Collection Location Max_Size  Min_Size  \\\n",
       "0   Capt. Philippe Bourdon      NaN      NaN       NaN   \n",
       "1                      NaN      NaN      NaN       NaN   \n",
       "2                      NaN      NaN      NaN       NaN   \n",
       "3           Maurizio Gigli      NaN      NaN       NaN   \n",
       "4                      NaN      NaN     60mm       NaN   \n",
       "\n",
       "                                           Hierarchy  \\\n",
       "0  [' DYNASTIDAE (Scarabaeoidea) > Dynastinae > D...   \n",
       "1  [' LUCANIDAE (Scarabaeoidea) > Chalcodinae > O...   \n",
       "2  [' CERAMBYCIDAE (Chrysomeloidea) > Lamiinae > ...   \n",
       "3  [' BUPRESTIDAE (Buprestoidea) > Julodinae > Aa...   \n",
       "4  [' CERAMBYCIDAE (Chrysomeloidea) > Lamiinae > ...   \n",
       "\n",
       "                                              Images  \n",
       "0  ['http://www.coleoptera-atlas.com/IMG/jpg/all_...  \n",
       "1  ['http://www.coleoptera-atlas.com/IMG/jpg/neol...  \n",
       "2  ['http://www.coleoptera-atlas.com/IMG/jpg/rose...  \n",
       "3  ['http://www.coleoptera-atlas.com/IMG/jpg/aaat...  \n",
       "4  ['http://www.coleoptera-atlas.com/IMG/jpg/abat...  "
      ]
     },
     "execution_count": 5,
     "metadata": {},
     "output_type": "execute_result"
    }
   ],
   "source": [
    "atlas = pd.read_excel('./labels/Coleopteras.xlsx')\n",
    "atlas.head()"
   ]
  },
  {
   "cell_type": "code",
   "execution_count": 6,
   "metadata": {},
   "outputs": [
    {
     "name": "stdout",
     "output_type": "stream",
     "text": [
      "contains 2020 images\n"
     ]
    }
   ],
   "source": [
    "import os\n",
    "import numpy as np\n",
    "filenames = os.listdir(clean_images)\n",
    "print(\"contains \" + str(len(filenames)) + \" images\")"
   ]
  },
  {
   "cell_type": "code",
   "execution_count": 7,
   "metadata": {},
   "outputs": [
    {
     "name": "stdout",
     "output_type": "stream",
     "text": [
      "['1083_0.jpg', '589_0.jpg', '210_0.jpg', '95_0.jpg', '80_1.jpg']\n"
     ]
    }
   ],
   "source": [
    "print(filenames[:5])"
   ]
  },
  {
   "cell_type": "code",
   "execution_count": null,
   "metadata": {},
   "outputs": [],
   "source": [
    "files = []\n",
    "families = []\n",
    "uniques = []\n",
    "for i in np.arange(len(filenames)):\n",
    "    filename = filenames[i]\n",
    "    uniqueid = filenames[i].split('_')[0]\n",
    "    get_family = list(atlas[atlas['Unique_ID'] == int(uniqueid)]['Hierarchy'])[0].split(' ')[1]\n",
    "    get_family = get_family.lower()\n",
    "    get_family = get_family.capitalize()\n",
    "    print( filename + ' ' + uniqueid + ' ' + get_family)\n",
    "    files.append(filename)\n",
    "    families.append(get_family)\n",
    "    uniques.append(uniqueid)"
   ]
  },
  {
   "cell_type": "code",
   "execution_count": 11,
   "metadata": {},
   "outputs": [],
   "source": [
    "cleanAtlas = pd.DataFrame({\n",
    "    'Filename:':files,\n",
    "    'Unique_ID':uniques,\n",
    "    'Family:': families\n",
    "}\n",
    ")"
   ]
  },
  {
   "cell_type": "code",
   "execution_count": 12,
   "metadata": {},
   "outputs": [
    {
     "data": {
      "text/html": [
       "<div>\n",
       "<style scoped>\n",
       "    .dataframe tbody tr th:only-of-type {\n",
       "        vertical-align: middle;\n",
       "    }\n",
       "\n",
       "    .dataframe tbody tr th {\n",
       "        vertical-align: top;\n",
       "    }\n",
       "\n",
       "    .dataframe thead th {\n",
       "        text-align: right;\n",
       "    }\n",
       "</style>\n",
       "<table border=\"1\" class=\"dataframe\">\n",
       "  <thead>\n",
       "    <tr style=\"text-align: right;\">\n",
       "      <th></th>\n",
       "      <th>Filename:</th>\n",
       "      <th>Unique_ID</th>\n",
       "      <th>Family:</th>\n",
       "    </tr>\n",
       "  </thead>\n",
       "  <tbody>\n",
       "    <tr>\n",
       "      <th>1737</th>\n",
       "      <td>1465_0.jpg</td>\n",
       "      <td>1465</td>\n",
       "      <td>Lucanidae</td>\n",
       "    </tr>\n",
       "    <tr>\n",
       "      <th>1738</th>\n",
       "      <td>1353_0.jpg</td>\n",
       "      <td>1353</td>\n",
       "      <td>Cetoniidae</td>\n",
       "    </tr>\n",
       "    <tr>\n",
       "      <th>1739</th>\n",
       "      <td>1655_0.jpg</td>\n",
       "      <td>1655</td>\n",
       "      <td>Cetoniidae</td>\n",
       "    </tr>\n",
       "    <tr>\n",
       "      <th>1740</th>\n",
       "      <td>1281_0.jpg</td>\n",
       "      <td>1281</td>\n",
       "      <td>Cetoniidae</td>\n",
       "    </tr>\n",
       "    <tr>\n",
       "      <th>1741</th>\n",
       "      <td>782_0.jpg</td>\n",
       "      <td>782</td>\n",
       "      <td>Cetoniidae</td>\n",
       "    </tr>\n",
       "  </tbody>\n",
       "</table>\n",
       "</div>"
      ],
      "text/plain": [
       "       Filename: Unique_ID     Family:\n",
       "1737  1465_0.jpg      1465   Lucanidae\n",
       "1738  1353_0.jpg      1353  Cetoniidae\n",
       "1739  1655_0.jpg      1655  Cetoniidae\n",
       "1740  1281_0.jpg      1281  Cetoniidae\n",
       "1741   782_0.jpg       782  Cetoniidae"
      ]
     },
     "execution_count": 12,
     "metadata": {},
     "output_type": "execute_result"
    }
   ],
   "source": [
    "cleanAtlas.tail()"
   ]
  },
  {
   "cell_type": "code",
   "execution_count": 13,
   "metadata": {},
   "outputs": [
    {
     "data": {
      "text/plain": [
       "<AxesSubplot:>"
      ]
     },
     "execution_count": 13,
     "metadata": {},
     "output_type": "execute_result"
    },
    {
     "data": {
      "image/png": "[encoded data removed]",
      "text/plain": [
       "<Figure size 432x288 with 1 Axes>"
      ]
     },
     "metadata": {
      "needs_background": "light"
     },
     "output_type": "display_data"
    }
   ],
   "source": [
    "cleanAtlas['Family:'].value_counts().plot(kind='barh')"
   ]
  },
  {
   "cell_type": "code",
   "execution_count": 14,
   "metadata": {},
   "outputs": [],
   "source": [
    "cleanAtlas.to_csv('coleoptera_atlas.csv')"
   ]
  },
  {
   "cell_type": "code",
   "execution_count": null,
   "metadata": {},
   "outputs": [],
   "source": [
    "\"\"\" Much more diversity in families other than Scarabaeidae!!! \"\"\""
   ]
  }
 ],
 "metadata": {
  "kernelspec": {
   "display_name": "Python 3",
   "language": "python",
   "name": "python3"
  },
  "language_info": {
   "codemirror_mode": {
    "name": "ipython",
    "version": 3
   },
   "file_extension": ".py",
   "mimetype": "text/x-python",
   "name": "python",
   "nbconvert_exporter": "python",
   "pygments_lexer": "ipython3",
   "version": "3.6.9"
  }
 },
 "nbformat": 4,
 "nbformat_minor": 4
}
