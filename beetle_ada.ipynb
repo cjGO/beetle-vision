{
  "nbformat": 4,
  "nbformat_minor": 0,
  "metadata": {
    "colab": {
      "name": "beetle-ada.ipynb",
      "provenance": [],
      "collapsed_sections": []
    },
    "kernelspec": {
      "name": "python3",
      "display_name": "Python 3"
    },
    "accelerator": "GPU"
  },
  "cells": [
    {
      "cell_type": "code",
      "metadata": {
        "id": "uC9N0_oJ9k46",
        "outputId": "8cae9f49-e43f-4695-81fb-e8710280b210",
        "colab": {
          "base_uri": "https://localhost:8080/"
        }
      },
      "source": [
        "%tensorflow_version 1.x\n",
        "import tensorflow as tf"
      ],
      "execution_count": null,
      "outputs": [
        {
          "output_type": "stream",
          "text": [
            "TensorFlow 1.x selected.\n"
          ],
          "name": "stdout"
        }
      ]
    },
    {
      "cell_type": "code",
      "metadata": {
        "id": "55AMYIDj9zt2",
        "outputId": "2ac4dca8-04b3-44b0-bf72-172659a98ffd",
        "colab": {
          "base_uri": "https://localhost:8080/"
        }
      },
      "source": [
        "\n",
        "print('Tensorflow version: {}'.format(tf.__version__) )\n",
        "!nvidia-smi -L\n",
        "print('GPU Identified at: {}'.format(tf.test.gpu_device_name()))"
      ],
      "execution_count": null,
      "outputs": [
        {
          "output_type": "stream",
          "text": [
            "Tensorflow version: 1.15.2\n",
            "GPU 0: Tesla P100-PCIE-16GB (UUID: GPU-47a5932c-621e-d77d-9c46-33c9c52ddd9a)\n",
            "GPU Identified at: /device:GPU:0\n"
          ],
          "name": "stdout"
        }
      ]
    },
    {
      "cell_type": "code",
      "metadata": {
        "id": "-7pNBdle92g2",
        "outputId": "abb9df1d-0ed2-4b52-9a1d-22f20d5547bc",
        "colab": {
          "base_uri": "https://localhost:8080/"
        }
      },
      "source": [
        "from google.colab import drive\n",
        "drive.mount('/content/drive')"
      ],
      "execution_count": null,
      "outputs": [
        {
          "output_type": "stream",
          "text": [
            "Mounted at /content/drive\n"
          ],
          "name": "stdout"
        }
      ]
    },
    {
      "cell_type": "code",
      "metadata": {
        "id": "ugQL8cv_Io35",
        "outputId": "cf93d37d-6c19-49ac-a239-d7526211c7f1",
        "colab": {
          "base_uri": "https://localhost:8080/"
        }
      },
      "source": [
        "%cd /content/drive/My\\ Drive/beetle/\n",
        "!unzip beetleRecord.zip"
      ],
      "execution_count": null,
      "outputs": [
        {
          "output_type": "stream",
          "text": [
            "/content/drive/My Drive/beetle\n",
            "Archive:  beetleRecord.zip\n",
            "   creating: tfrecords/\n",
            "  inflating: tfrecords/-r07.tfrecords  \n",
            "  inflating: tfrecords/-r08.tfrecords  \n",
            "  inflating: tfrecords/-r04.tfrecords  \n",
            "  inflating: tfrecords/-r02.tfrecords  \n",
            "  inflating: tfrecords/-r05.tfrecords  \n",
            "  inflating: tfrecords/-r10.tfrecords  \n",
            "  inflating: tfrecords/-r06.tfrecords  \n",
            "  inflating: tfrecords/-r09.tfrecords  error:  zipfile read error\n"
          ],
          "name": "stdout"
        }
      ]
    },
    {
      "cell_type": "code",
      "metadata": {
        "id": "XyEwYmmzQiNT",
        "outputId": "11a3ee76-fd99-478b-eb21-1f1551a47726",
        "colab": {
          "base_uri": "https://localhost:8080/"
        }
      },
      "source": [
        "%cd /content/drive/My\\ Drive/beetle/stylegan2-ada/"
      ],
      "execution_count": null,
      "outputs": [
        {
          "output_type": "stream",
          "text": [
            "/content/drive/My Drive/beetle/stylegan2-ada\n"
          ],
          "name": "stdout"
        }
      ]
    },
    {
      "cell_type": "code",
      "metadata": {
        "id": "cSqo0Tkz-teE",
        "outputId": "b499b301-1318-47a7-d77c-6b86dbe5e906",
        "colab": {
          "base_uri": "https://localhost:8080/"
        }
      },
      "source": [
        "!python train.py --gpus=1 --data=../tfrecords --out=./out"
      ],
      "execution_count": null,
      "outputs": [
        {
          "output_type": "stream",
          "text": [
            "Traceback (most recent call last):\n",
            "  File \"train.py\", line 561, in <module>\n",
            "    main()\n",
            "  File \"train.py\", line 553, in main\n",
            "    run_training(**vars(args))\n",
            "  File \"train.py\", line 416, in run_training\n",
            "    run_desc, training_options = setup_training_options(**hyperparam_options)\n",
            "  File \"train.py\", line 105, in setup_training_options\n",
            "    dataset_obj = dataset.load_dataset(**args.train_dataset_args) # try to load the data and see what comes out\n",
            "  File \"/content/drive/My Drive/beetle/stylegan2-ada/training/dataset.py\", line 231, in load_dataset\n",
            "    mirror_augment=mirror_augment, repeat=repeat, shuffle=shuffle)\n",
            "  File \"/content/drive/My Drive/beetle/stylegan2-ada/training/dataset.py\", line 96, in __init__\n",
            "    assert all(lod in tfr_lods for lod in range(self.resolution_log2 - 1))\n",
            "AssertionError\n"
          ],
          "name": "stdout"
        }
      ]
    },
    {
      "cell_type": "code",
      "metadata": {
        "id": "rNxvc5b9CRPn"
      },
      "source": [
        ""
      ],
      "execution_count": null,
      "outputs": []
    }
  ]
}