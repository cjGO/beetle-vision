{
 "cells": [
  {
   "cell_type": "code",
   "execution_count": null,
   "metadata": {},
   "outputs": [],
   "source": []
  },
  {
   "cell_type": "code",
   "execution_count": 1,
   "metadata": {},
   "outputs": [],
   "source": [
    "import tensorflow as tf\n",
    "from tensorflow import keras\n",
    "from tensorflow.keras import layers\n",
    "import pathlib\n",
    "import pandas as pd\n",
    "import numpy as np\n",
    "from keras_preprocessing.image import ImageDataGenerator"
   ]
  },
  {
   "cell_type": "code",
   "execution_count": 2,
   "metadata": {},
   "outputs": [],
   "source": [
    "#NOTE - I am working in an nvidia-docker image with official tensorflow docker.\n",
    "# I had to add this line AND 'trust' the notebook on top-right. Otherwise an ugly\n",
    "# cudNN error is present.\n",
    "\n",
    "gpus = tf.config.experimental.list_physical_devices('GPU')\n",
    "if gpus:\n",
    "    for gpu in gpus:\n",
    "        tf.config.experimental.set_memory_growth(gpu, True)"
   ]
  },
  {
   "cell_type": "code",
   "execution_count": 43,
   "metadata": {},
   "outputs": [],
   "source": [
    "image_dir = '/home/jovyan/work/beetleData/images/'\n",
    "label_csv = '/home/jovyan/work/beetleData/labels/master_rbi.csv'"
   ]
  },
  {
   "cell_type": "code",
   "execution_count": 16,
   "metadata": {},
   "outputs": [
    {
     "data": {
      "text/html": [
       "<div>\n",
       "<style scoped>\n",
       "    .dataframe tbody tr th:only-of-type {\n",
       "        vertical-align: middle;\n",
       "    }\n",
       "\n",
       "    .dataframe tbody tr th {\n",
       "        vertical-align: top;\n",
       "    }\n",
       "\n",
       "    .dataframe thead th {\n",
       "        text-align: right;\n",
       "    }\n",
       "</style>\n",
       "<table border=\"1\" class=\"dataframe\">\n",
       "  <thead>\n",
       "    <tr style=\"text-align: right;\">\n",
       "      <th></th>\n",
       "      <th>Family:</th>\n",
       "      <th>Subfamily:</th>\n",
       "      <th>Country:</th>\n",
       "      <th>Province:</th>\n",
       "      <th>Genus:</th>\n",
       "      <th>Species:</th>\n",
       "      <th>View:</th>\n",
       "      <th>Filename:</th>\n",
       "    </tr>\n",
       "  </thead>\n",
       "  <tbody>\n",
       "    <tr>\n",
       "      <th>0</th>\n",
       "      <td>Anthribidae</td>\n",
       "      <td>/</td>\n",
       "      <td>Equatorial Guinea</td>\n",
       "      <td>/</td>\n",
       "      <td>Phaeotragus</td>\n",
       "      <td>gigas</td>\n",
       "      <td>Dorsal</td>\n",
       "      <td>rbi_1.jpg</td>\n",
       "    </tr>\n",
       "    <tr>\n",
       "      <th>1</th>\n",
       "      <td>Anthribidae</td>\n",
       "      <td>/</td>\n",
       "      <td>Equatorial Guinea</td>\n",
       "      <td>/</td>\n",
       "      <td>Phaeotragus</td>\n",
       "      <td>gigas</td>\n",
       "      <td>Lateral</td>\n",
       "      <td>rbi_2.jpg</td>\n",
       "    </tr>\n",
       "    <tr>\n",
       "      <th>2</th>\n",
       "      <td>Anthribidae</td>\n",
       "      <td>/</td>\n",
       "      <td>Madagascar</td>\n",
       "      <td>/</td>\n",
       "      <td>Tophroderes</td>\n",
       "      <td>phrenatus</td>\n",
       "      <td>Dorsal</td>\n",
       "      <td>rbi_3.jpg</td>\n",
       "    </tr>\n",
       "    <tr>\n",
       "      <th>3</th>\n",
       "      <td>Brentidae</td>\n",
       "      <td>/</td>\n",
       "      <td>Indonesia</td>\n",
       "      <td>Sumatra</td>\n",
       "      <td>Eutrachelus</td>\n",
       "      <td>temmincki</td>\n",
       "      <td>Dorsal</td>\n",
       "      <td>rbi_4.jpg</td>\n",
       "    </tr>\n",
       "    <tr>\n",
       "      <th>4</th>\n",
       "      <td>Brentidae</td>\n",
       "      <td>/</td>\n",
       "      <td>Indonesia</td>\n",
       "      <td>Sumatra</td>\n",
       "      <td>Eutrachelus</td>\n",
       "      <td>temmincki</td>\n",
       "      <td>Dorsal</td>\n",
       "      <td>rbi_5.jpg</td>\n",
       "    </tr>\n",
       "  </tbody>\n",
       "</table>\n",
       "</div>"
      ],
      "text/plain": [
       "       Family: Subfamily:           Country: Province:       Genus:  \\\n",
       "0  Anthribidae          /  Equatorial Guinea         /  Phaeotragus   \n",
       "1  Anthribidae          /  Equatorial Guinea         /  Phaeotragus   \n",
       "2  Anthribidae          /         Madagascar         /  Tophroderes   \n",
       "3    Brentidae          /          Indonesia   Sumatra  Eutrachelus   \n",
       "4    Brentidae          /          Indonesia   Sumatra  Eutrachelus   \n",
       "\n",
       "    Species:    View:  Filename:  \n",
       "0      gigas   Dorsal  rbi_1.jpg  \n",
       "1      gigas  Lateral  rbi_2.jpg  \n",
       "2  phrenatus   Dorsal  rbi_3.jpg  \n",
       "3  temmincki   Dorsal  rbi_4.jpg  \n",
       "4  temmincki   Dorsal  rbi_5.jpg  "
      ]
     },
     "execution_count": 16,
     "metadata": {},
     "output_type": "execute_result"
    }
   ],
   "source": [
    "labels = pd.read_csv(label_csv)\n",
    "labels.head()"
   ]
  },
  {
   "cell_type": "code",
   "execution_count": 20,
   "metadata": {},
   "outputs": [
    {
     "data": {
      "text/plain": [
       "<AxesSubplot:>"
      ]
     },
     "execution_count": 20,
     "metadata": {},
     "output_type": "execute_result"
    },
    {
     "data": {
      "image/png": "[encoded data removed]",
      "text/plain": [
       "<Figure size 432x288 with 1 Axes>"
      ]
     },
     "metadata": {
      "needs_background": "light"
     },
     "output_type": "display_data"
    }
   ],
   "source": [
    "classify_column = 'Family:'\n",
    "\n",
    "dorsal_data = labels[labels[\"View:\"] == \"Dorsal\"] #filter images that are from dorsal view\n",
    "dorsal_data[classify_column].value_counts().sort_values().plot(kind = 'barh') # preview the distribution"
   ]
  },
  {
   "cell_type": "code",
   "execution_count": 26,
   "metadata": {},
   "outputs": [
    {
     "data": {
      "text/plain": [
       "Scarabaeidae    0.492287\n",
       "Cerambycidae    0.241449\n",
       "Lucanidae       0.100604\n",
       "Buprestidae     0.069081\n",
       "Carabidae       0.048625\n",
       "Cicindelidae    0.030181\n",
       "Name: Family:, dtype: float64"
      ]
     },
     "execution_count": 26,
     "metadata": {},
     "output_type": "execute_result"
    }
   ],
   "source": [
    "top_classes = 6\n",
    "top6 = dorsal_data[classify_column].value_counts(normalize=True)[:top_classes]\n",
    "top6"
   ]
  },
  {
   "cell_type": "code",
   "execution_count": 30,
   "metadata": {},
   "outputs": [
    {
     "data": {
      "text/plain": [
       "<AxesSubplot:>"
      ]
     },
     "execution_count": 30,
     "metadata": {},
     "output_type": "execute_result"
    },
    {
     "data": {
      "image/png": "[encoded data removed]",
      "text/plain": [
       "<Figure size 432x288 with 1 Axes>"
      ]
     },
     "metadata": {
      "needs_background": "light"
     },
     "output_type": "display_data"
    }
   ],
   "source": [
    "top6.sort_values().plot(kind = 'barh') # preview the distribution"
   ]
  },
  {
   "cell_type": "code",
   "execution_count": 35,
   "metadata": {},
   "outputs": [
    {
     "data": {
      "text/plain": [
       "array(['Scarabaeidae', 'Cerambycidae', 'Lucanidae', 'Buprestidae',\n",
       "       'Carabidae', 'Cicindelidae'], dtype=object)"
      ]
     },
     "execution_count": 35,
     "metadata": {},
     "output_type": "execute_result"
    }
   ],
   "source": [
    "top6"
   ]
  },
  {
   "cell_type": "code",
   "execution_count": 37,
   "metadata": {},
   "outputs": [
    {
     "data": {
      "text/html": [
       "<div>\n",
       "<style scoped>\n",
       "    .dataframe tbody tr th:only-of-type {\n",
       "        vertical-align: middle;\n",
       "    }\n",
       "\n",
       "    .dataframe tbody tr th {\n",
       "        vertical-align: top;\n",
       "    }\n",
       "\n",
       "    .dataframe thead th {\n",
       "        text-align: right;\n",
       "    }\n",
       "</style>\n",
       "<table border=\"1\" class=\"dataframe\">\n",
       "  <thead>\n",
       "    <tr style=\"text-align: right;\">\n",
       "      <th></th>\n",
       "      <th>Family:</th>\n",
       "      <th>Subfamily:</th>\n",
       "      <th>Country:</th>\n",
       "      <th>Province:</th>\n",
       "      <th>Genus:</th>\n",
       "      <th>Species:</th>\n",
       "      <th>View:</th>\n",
       "      <th>Filename:</th>\n",
       "    </tr>\n",
       "  </thead>\n",
       "  <tbody>\n",
       "    <tr>\n",
       "      <th>4057</th>\n",
       "      <td>Scarabaeidae</td>\n",
       "      <td>Scarabaeinae</td>\n",
       "      <td>Central African Republic</td>\n",
       "      <td>Haute-Sangha</td>\n",
       "      <td>Sisyphus</td>\n",
       "      <td>atratus</td>\n",
       "      <td>Dorsal</td>\n",
       "      <td>rbi_4233.jpg</td>\n",
       "    </tr>\n",
       "    <tr>\n",
       "      <th>4058</th>\n",
       "      <td>Scarabaeidae</td>\n",
       "      <td>Scarabaeinae</td>\n",
       "      <td>CÃ´te d'Ivoire</td>\n",
       "      <td>/</td>\n",
       "      <td>Sisyphus</td>\n",
       "      <td>biarmatus</td>\n",
       "      <td>Dorsal</td>\n",
       "      <td>rbi_4234.jpg</td>\n",
       "    </tr>\n",
       "    <tr>\n",
       "      <th>4059</th>\n",
       "      <td>Scarabaeidae</td>\n",
       "      <td>Scarabaeinae</td>\n",
       "      <td>Central African Republic</td>\n",
       "      <td>KÃ©mo</td>\n",
       "      <td>Sisyphus</td>\n",
       "      <td>gladiator</td>\n",
       "      <td>Dorsal</td>\n",
       "      <td>rbi_4235.jpg</td>\n",
       "    </tr>\n",
       "    <tr>\n",
       "      <th>4060</th>\n",
       "      <td>Scarabaeidae</td>\n",
       "      <td>Scarabaeinae</td>\n",
       "      <td>Central African Republic</td>\n",
       "      <td>KÃ©mo</td>\n",
       "      <td>Sisyphus</td>\n",
       "      <td>gladiator</td>\n",
       "      <td>Dorsal</td>\n",
       "      <td>rbi_4236.jpg</td>\n",
       "    </tr>\n",
       "    <tr>\n",
       "      <th>4061</th>\n",
       "      <td>Scarabaeidae</td>\n",
       "      <td>Scarabaeinae</td>\n",
       "      <td>/</td>\n",
       "      <td>/</td>\n",
       "      <td>Sisyphus</td>\n",
       "      <td>muricatus</td>\n",
       "      <td>Dorsal</td>\n",
       "      <td>rbi_4237.jpg</td>\n",
       "    </tr>\n",
       "  </tbody>\n",
       "</table>\n",
       "</div>"
      ],
      "text/plain": [
       "           Family:    Subfamily:                  Country:     Province:  \\\n",
       "4057  Scarabaeidae  Scarabaeinae  Central African Republic  Haute-Sangha   \n",
       "4058  Scarabaeidae  Scarabaeinae            CÃ´te d'Ivoire             /   \n",
       "4059  Scarabaeidae  Scarabaeinae  Central African Republic         KÃ©mo   \n",
       "4060  Scarabaeidae  Scarabaeinae  Central African Republic         KÃ©mo   \n",
       "4061  Scarabaeidae  Scarabaeinae                         /             /   \n",
       "\n",
       "        Genus:   Species:   View:     Filename:  \n",
       "4057  Sisyphus    atratus  Dorsal  rbi_4233.jpg  \n",
       "4058  Sisyphus  biarmatus  Dorsal  rbi_4234.jpg  \n",
       "4059  Sisyphus  gladiator  Dorsal  rbi_4235.jpg  \n",
       "4060  Sisyphus  gladiator  Dorsal  rbi_4236.jpg  \n",
       "4061  Sisyphus  muricatus  Dorsal  rbi_4237.jpg  "
      ]
     },
     "execution_count": 37,
     "metadata": {},
     "output_type": "execute_result"
    }
   ],
   "source": [
    "top6_df = dorsal_data[dorsal_data[classify_column].isin(top6)] #filter images from only top 6 classes\n",
    "top6_df.tail()"
   ]
  },
  {
   "cell_type": "code",
   "execution_count": 248,
   "metadata": {},
   "outputs": [
    {
     "name": "stdout",
     "output_type": "stream",
     "text": [
      "Buprestidae\n",
      "Carabidae\n",
      "Cerambycidae\n",
      "Cicindelidae\n",
      "Lucanidae\n",
      "Scarabaeidae\n"
     ]
    }
   ],
   "source": [
    "\"\"\"\n",
    "train_test_splitter_even_across_labels\n",
    "\n",
    "a function which takes a dataframe of data points, goes through each unique value in the label, and\n",
    "randomly samples % for train/test split\n",
    "\"\"\"\n",
    "train_indexes = []\n",
    "test_indexes = []\n",
    "train_ratio = 0.8\n",
    "get_labels = top6_df[classify_column].unique()\n",
    "# loop through each label\n",
    "count = 0\n",
    "for label_type in get_labels:\n",
    "    print(label_type)\n",
    "    #subset the whole dataframe for the label_type\n",
    "    subset_df = top6_df[top6_df[classify_column] == label_type]\n",
    "    #split the rows randomly into a subset_test and subset_train dataframe\n",
    "    number_samples = subset_df.shape[0] #total number of rows in dataframe\n",
    "    df_split = pd.DataFrame(np.random.randn(number_samples,2))\n",
    "    df_split = np.random.rand(len(df_split)) < train_ratio\n",
    "    train = list(subset_df[df_split].index)\n",
    "    test = list(subset_df[~df_split].index)\n",
    "    train_indexes.append(list(train))\n",
    "    test_indexes.append(list(test))\n",
    "    \n",
    "train_indexes = [item for sublist in train_indexes for item in sublist] # fancy way to flatten a list of lists\n",
    "test_indexes = [item for sublist in test_indexes for item in sublist]\n",
    "\n",
    "train_dataframe = top6_df.iloc[top6_df.index.isin(train_indexes)] # fancy way to subset a dataframe by list of indexes\n",
    "test_dataframe = top6_df.iloc[top6_df.index.isin(test_indexes)]"
   ]
  },
  {
   "cell_type": "code",
   "execution_count": 249,
   "metadata": {},
   "outputs": [
    {
     "name": "stdout",
     "output_type": "stream",
     "text": [
      "2346\n",
      "583\n"
     ]
    }
   ],
   "source": [
    "print(train_dataframe.shape[0])\n",
    "print(test_dataframe.shape[0])"
   ]
  },
  {
   "cell_type": "code",
   "execution_count": 250,
   "metadata": {},
   "outputs": [
    {
     "data": {
      "text/plain": [
       "<AxesSubplot:>"
      ]
     },
     "execution_count": 250,
     "metadata": {},
     "output_type": "execute_result"
    },
    {
     "data": {
      "image/png": "[encoded data removed]",
      "text/plain": [
       "<Figure size 432x288 with 1 Axes>"
      ]
     },
     "metadata": {
      "needs_background": "light"
     },
     "output_type": "display_data"
    }
   ],
   "source": [
    "test_dataframe[\"Family:\"].value_counts().plot(kind='bar')"
   ]
  },
  {
   "cell_type": "code",
   "execution_count": 251,
   "metadata": {},
   "outputs": [],
   "source": [
    "# TODO... plot these side by side to show that they have the same ratios for each class... stupid matplotlib pandas\n",
    "test_view = test_dataframe[\"Family:\"].value_counts(normalize=True)\n",
    "train_vew = train_dataframe[\"Family:\"].value_counts(normalize=True)"
   ]
  },
  {
   "cell_type": "code",
   "execution_count": null,
   "metadata": {},
   "outputs": [],
   "source": []
  },
  {
   "cell_type": "code",
   "execution_count": null,
   "metadata": {},
   "outputs": [],
   "source": [
    "train_ds = tf.keras.preprocessing.\n",
    "\n",
    "train_generator=datagen.flow_from_dataframe(dataframe=train_dataframe,\n",
    "                                        directory=image_dir,\n",
    "                                        x_col=\"Filename:\", y_col=\"Family:\",\n",
    "                                        class_mode=\"categorical\",\n",
    "                                        target_size=image_size,\n",
    "                                        batch_size=12)"
   ]
  },
  {
   "cell_type": "code",
   "execution_count": 245,
   "metadata": {},
   "outputs": [
    {
     "data": {
      "text/plain": [
       "['Buprestidae',\n",
       " 'Carabidae',\n",
       " 'Cerambycidae',\n",
       " 'Cicindelidae',\n",
       " 'Lucanidae',\n",
       " 'Scarabaeidae']"
      ]
     },
     "execution_count": 245,
     "metadata": {},
     "output_type": "execute_result"
    }
   ],
   "source": []
  },
  {
   "cell_type": "code",
   "execution_count": 265,
   "metadata": {},
   "outputs": [
    {
     "name": "stdout",
     "output_type": "stream",
     "text": [
      "Found 2346 validated image filenames belonging to 6 classes.\n",
      "Found 583 validated image filenames belonging to 6 classes.\n"
     ]
    }
   ],
   "source": [
    "datagen=ImageDataGenerator(rescale=1./255)\n",
    "image_size = (128,128)\n",
    "classes = list(train_dataframe[\"Family:\"].unique())\n",
    "train_generator=datagen.flow_from_dataframe(dataframe=train_dataframe,\n",
    "                                        directory=image_dir,\n",
    "                                        x_col=\"Filename:\", y_col=\"Family:\",\n",
    "                                        class_mode=\"categorical\",\n",
    "                                        classes = classes,\n",
    "                                        target_size=image_size,\n",
    "                                        batch_size=12)\n",
    "\n",
    "test_generator=datagen.flow_from_dataframe(dataframe=test_dataframe,\n",
    "                                        directory=image_dir,\n",
    "                                        x_col=\"Filename:\", y_col=\"Family:\",\n",
    "                                        class_mode=\"categorical\",\n",
    "                                        classes = classes,\n",
    "                                        target_size=image_size,\n",
    "                                        batch_size=12)"
   ]
  },
  {
   "cell_type": "code",
   "execution_count": 266,
   "metadata": {},
   "outputs": [],
   "source": [
    "data_augmentation = keras.Sequential(\n",
    "    [\n",
    "        layers.experimental.preprocessing.RandomFlip(\"horizontal\"),\n",
    "        layers.experimental.preprocessing.RandomRotation(0.1),\n",
    "    ]\n",
    ")\n"
   ]
  },
  {
   "cell_type": "code",
   "execution_count": 499,
   "metadata": {},
   "outputs": [
    {
     "data": {
      "text/plain": [
       "2"
      ]
     },
     "execution_count": 499,
     "metadata": {},
     "output_type": "execute_result"
    }
   ],
   "source": []
  },
  {
   "cell_type": "code",
   "execution_count": 504,
   "metadata": {},
   "outputs": [
    {
     "data": {
      "text/plain": [
       "Text(0.5, 1.0, 'Scarabaeidae')"
      ]
     },
     "execution_count": 504,
     "metadata": {},
     "output_type": "execute_result"
    },
    {
     "data": {
      "image/png": "[encoded data removed]",
      "text/plain": [
       "<Figure size 432x288 with 1 Axes>"
      ]
     },
     "metadata": {
      "needs_background": "light"
     },
     "output_type": "display_data"
    }
   ],
   "source": [
    "img,label=test_generator.next()\n",
    "plt.imshow(img[0])\n",
    "plt.title(classes[np.argmax(label[0])])"
   ]
  },
  {
   "cell_type": "code",
   "execution_count": 506,
   "metadata": {},
   "outputs": [],
   "source": [
    "augmented_image = data_augmentation(img)"
   ]
  },
  {
   "cell_type": "code",
   "execution_count": 510,
   "metadata": {},
   "outputs": [
    {
     "data": {
      "text/plain": [
       "<matplotlib.image.AxesImage at 0x7fe2c5404710>"
      ]
     },
     "execution_count": 510,
     "metadata": {},
     "output_type": "execute_result"
    },
    {
     "data": {
      "image/png": "[encoded data removed]",
      "text/plain": [
       "<Figure size 432x288 with 1 Axes>"
      ]
     },
     "metadata": {
      "needs_background": "light"
     },
     "output_type": "display_data"
    }
   ],
   "source": [
    "plt.imshow(augmented_image[0])"
   ]
  },
  {
   "cell_type": "code",
   "execution_count": 230,
   "metadata": {},
   "outputs": [
    {
     "name": "stdout",
     "output_type": "stream",
     "text": [
      "('Failed to import pydot. You must `pip install pydot` and install graphviz (https://graphviz.gitlab.io/download/), ', 'for `pydotprint` to work.')\n"
     ]
    }
   ],
   "source": [
    "def make_model(input_shape, num_classes):\n",
    "    inputs = keras.Input(shape=input_shape)\n",
    "    # Image augmentation block\n",
    "    x = data_augmentation(inputs)\n",
    "\n",
    "    # Entry block\n",
    "    #x = layers.experimental.preprocessing.Rescaling(1.0 / 255)(x)\n",
    "    x = layers.Conv2D(32, 3, strides=2, padding=\"same\")(x)\n",
    "    x = layers.BatchNormalization()(x)\n",
    "    x = layers.Activation(\"relu\")(x)\n",
    "\n",
    "    x = layers.Conv2D(64, 3, padding=\"same\")(x)\n",
    "    x = layers.BatchNormalization()(x)\n",
    "    x = layers.Activation(\"relu\")(x)\n",
    "\n",
    "    previous_block_activation = x  # Set aside residual\n",
    "\n",
    "    for size in [128, 256, 512, 728]:\n",
    "        x = layers.Activation(\"relu\")(x)\n",
    "        x = layers.SeparableConv2D(size, 3, padding=\"same\")(x)\n",
    "        x = layers.BatchNormalization()(x)\n",
    "\n",
    "        x = layers.Activation(\"relu\")(x)\n",
    "        x = layers.SeparableConv2D(size, 3, padding=\"same\")(x)\n",
    "        x = layers.BatchNormalization()(x)\n",
    "\n",
    "        x = layers.MaxPooling2D(3, strides=2, padding=\"same\")(x)\n",
    "\n",
    "        # Project residual\n",
    "        residual = layers.Conv2D(size, 1, strides=2, padding=\"same\")(\n",
    "            previous_block_activation\n",
    "        )\n",
    "        x = layers.add([x, residual])  # Add back residual\n",
    "        previous_block_activation = x  # Set aside next residual\n",
    "\n",
    "    x = layers.SeparableConv2D(1024, 3, padding=\"same\")(x)\n",
    "    x = layers.BatchNormalization()(x)\n",
    "    x = layers.Activation(\"relu\")(x)\n",
    "\n",
    "    x = layers.GlobalAveragePooling2D()(x)\n",
    "    if num_classes == 2:\n",
    "        activation = \"sigmoid\"\n",
    "        units = 1\n",
    "    else:\n",
    "        activation = \"softmax\"\n",
    "        units = num_classes\n",
    "\n",
    "    x = layers.Dropout(0.5)(x)\n",
    "    outputs = layers.Dense(units, activation=activation)(x)\n",
    "    return keras.Model(inputs, outputs)\n",
    "\n",
    "\n",
    "model = make_model(input_shape=image_size + (3,), num_classes=6)\n",
    "keras.utils.plot_model(model, show_shapes=True)\n"
   ]
  },
  {
   "cell_type": "code",
   "execution_count": 237,
   "metadata": {},
   "outputs": [
    {
     "name": "stdout",
     "output_type": "stream",
     "text": [
      "Epoch 1/10\n",
      "199/199 [==============================] - 13s 60ms/step - loss: 1.0932 - accuracy: 0.9262 - val_loss: 1.7056 - val_accuracy: 0.3721\n",
      "Epoch 2/10\n",
      "199/199 [==============================] - 12s 58ms/step - loss: 0.9109 - accuracy: 0.9447 - val_loss: 1.9700 - val_accuracy: 0.1797\n",
      "Epoch 3/10\n",
      "199/199 [==============================] - 11s 57ms/step - loss: 0.8604 - accuracy: 0.9685 - val_loss: 3.6947 - val_accuracy: 0.0327\n",
      "Epoch 4/10\n",
      "199/199 [==============================] - 11s 57ms/step - loss: 0.8286 - accuracy: 0.9803 - val_loss: 0.9218 - val_accuracy: 0.8929\n",
      "Epoch 5/10\n",
      "199/199 [==============================] - 11s 57ms/step - loss: 0.8314 - accuracy: 0.9758 - val_loss: 1.8387 - val_accuracy: 0.1198\n",
      "Epoch 6/10\n",
      "199/199 [==============================] - 11s 57ms/step - loss: 0.8224 - accuracy: 0.9732 - val_loss: 0.8892 - val_accuracy: 0.9292\n",
      "Epoch 7/10\n",
      "199/199 [==============================] - 11s 56ms/step - loss: 0.8106 - accuracy: 0.9739 - val_loss: 1.1455 - val_accuracy: 0.7514\n",
      "Epoch 8/10\n",
      "199/199 [==============================] - 11s 56ms/step - loss: 0.7949 - accuracy: 0.9785 - val_loss: 1.3519 - val_accuracy: 0.6261\n",
      "Epoch 9/10\n",
      "199/199 [==============================] - 11s 56ms/step - loss: 0.7989 - accuracy: 0.9788 - val_loss: 1.1224 - val_accuracy: 0.8113\n",
      "Epoch 10/10\n",
      "199/199 [==============================] - 11s 56ms/step - loss: 0.7856 - accuracy: 0.9811 - val_loss: 0.9665 - val_accuracy: 0.8693\n"
     ]
    }
   ],
   "source": [
    "epochs = 10\n",
    "\n",
    "callbacks = [\n",
    "    keras.callbacks.ModelCheckpoint(\"save_at_{epoch}.h5\"),\n",
    "]\n",
    "\n",
    "loss = tf.keras.losses.CategoricalCrossentropy(\n",
    "    from_logits=False,\n",
    "    label_smoothing=.2,\n",
    "    reduction=\"auto\",\n",
    "    name=\"categorical_crossentropy\",\n",
    ")\n",
    "\n",
    "\n",
    "model.compile(\n",
    "    optimizer=keras.optimizers.Adam(1e-3),\n",
    "    loss=loss,\n",
    "    metrics=[\"accuracy\"],\n",
    ")\n",
    "history = model.fit(\n",
    "    train_generator, epochs=epochs, callbacks=callbacks, validation_data=test_generator,\n",
    ")\n"
   ]
  },
  {
   "cell_type": "code",
   "execution_count": null,
   "metadata": {},
   "outputs": [],
   "source": []
  },
  {
   "cell_type": "code",
   "execution_count": null,
   "metadata": {},
   "outputs": [],
   "source": []
  },
  {
   "cell_type": "code",
   "execution_count": null,
   "metadata": {},
   "outputs": [],
   "source": []
  },
  {
   "cell_type": "code",
   "execution_count": null,
   "metadata": {},
   "outputs": [],
   "source": []
  }
 ],
 "metadata": {
  "kernelspec": {
   "display_name": "Python 3",
   "language": "python",
   "name": "python3"
  },
  "language_info": {
   "codemirror_mode": {
    "name": "ipython",
    "version": 3
   },
   "file_extension": ".py",
   "mimetype": "text/x-python",
   "name": "python",
   "nbconvert_exporter": "python",
   "pygments_lexer": "ipython3",
   "version": "3.6.9"
  }
 },
 "nbformat": 4,
 "nbformat_minor": 4
}
